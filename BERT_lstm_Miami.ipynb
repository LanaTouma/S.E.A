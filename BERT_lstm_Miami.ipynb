{
  "cells": [
    {
      "cell_type": "code",
      "execution_count": null,
      "metadata": {
        "colab": {
          "base_uri": "https://localhost:8080/"
        },
        "id": "CQOPuFD4gEr7",
        "outputId": "3f1a1eba-1d8d-4e38-c146-525a063a6c15"
      },
      "outputs": [
        {
          "name": "stdout",
          "output_type": "stream",
          "text": [
            "Collecting tensorflow_text\n",
            "  Downloading tensorflow_text-2.8.2-cp37-cp37m-manylinux_2_12_x86_64.manylinux2010_x86_64.whl (4.9 MB)\n",
            "\u001b[K     |████████████████████████████████| 4.9 MB 9.0 MB/s \n",
            "\u001b[?25hRequirement already satisfied: tensorflow-hub>=0.8.0 in /usr/local/lib/python3.7/dist-packages (from tensorflow_text) (0.12.0)\n",
            "Requirement already satisfied: tensorflow<2.9,>=2.8.0 in /usr/local/lib/python3.7/dist-packages (from tensorflow_text) (2.8.0)\n",
            "Requirement already satisfied: numpy>=1.20 in /usr/local/lib/python3.7/dist-packages (from tensorflow<2.9,>=2.8.0->tensorflow_text) (1.21.6)\n",
            "Requirement already satisfied: gast>=0.2.1 in /usr/local/lib/python3.7/dist-packages (from tensorflow<2.9,>=2.8.0->tensorflow_text) (0.5.3)\n",
            "Requirement already satisfied: termcolor>=1.1.0 in /usr/local/lib/python3.7/dist-packages (from tensorflow<2.9,>=2.8.0->tensorflow_text) (1.1.0)\n",
            "Requirement already satisfied: keras<2.9,>=2.8.0rc0 in /usr/local/lib/python3.7/dist-packages (from tensorflow<2.9,>=2.8.0->tensorflow_text) (2.8.0)\n",
            "Requirement already satisfied: libclang>=9.0.1 in /usr/local/lib/python3.7/dist-packages (from tensorflow<2.9,>=2.8.0->tensorflow_text) (13.0.0)\n",
            "Requirement already satisfied: typing-extensions>=3.6.6 in /usr/local/lib/python3.7/dist-packages (from tensorflow<2.9,>=2.8.0->tensorflow_text) (4.2.0)\n",
            "Requirement already satisfied: h5py>=2.9.0 in /usr/local/lib/python3.7/dist-packages (from tensorflow<2.9,>=2.8.0->tensorflow_text) (3.1.0)\n",
            "Requirement already satisfied: google-pasta>=0.1.1 in /usr/local/lib/python3.7/dist-packages (from tensorflow<2.9,>=2.8.0->tensorflow_text) (0.2.0)\n",
            "Requirement already satisfied: absl-py>=0.4.0 in /usr/local/lib/python3.7/dist-packages (from tensorflow<2.9,>=2.8.0->tensorflow_text) (1.0.0)\n",
            "Requirement already satisfied: setuptools in /usr/local/lib/python3.7/dist-packages (from tensorflow<2.9,>=2.8.0->tensorflow_text) (57.4.0)\n",
            "Requirement already satisfied: six>=1.12.0 in /usr/local/lib/python3.7/dist-packages (from tensorflow<2.9,>=2.8.0->tensorflow_text) (1.15.0)\n",
            "Requirement already satisfied: wrapt>=1.11.0 in /usr/local/lib/python3.7/dist-packages (from tensorflow<2.9,>=2.8.0->tensorflow_text) (1.14.0)\n",
            "Requirement already satisfied: opt-einsum>=2.3.2 in /usr/local/lib/python3.7/dist-packages (from tensorflow<2.9,>=2.8.0->tensorflow_text) (3.3.0)\n",
            "Requirement already satisfied: protobuf>=3.9.2 in /usr/local/lib/python3.7/dist-packages (from tensorflow<2.9,>=2.8.0->tensorflow_text) (3.17.3)\n",
            "Requirement already satisfied: flatbuffers>=1.12 in /usr/local/lib/python3.7/dist-packages (from tensorflow<2.9,>=2.8.0->tensorflow_text) (2.0)\n",
            "Collecting tf-estimator-nightly==2.8.0.dev2021122109\n",
            "  Downloading tf_estimator_nightly-2.8.0.dev2021122109-py2.py3-none-any.whl (462 kB)\n",
            "\u001b[K     |████████████████████████████████| 462 kB 57.1 MB/s \n",
            "\u001b[?25hRequirement already satisfied: grpcio<2.0,>=1.24.3 in /usr/local/lib/python3.7/dist-packages (from tensorflow<2.9,>=2.8.0->tensorflow_text) (1.44.0)\n",
            "Requirement already satisfied: astunparse>=1.6.0 in /usr/local/lib/python3.7/dist-packages (from tensorflow<2.9,>=2.8.0->tensorflow_text) (1.6.3)\n",
            "Requirement already satisfied: tensorboard<2.9,>=2.8 in /usr/local/lib/python3.7/dist-packages (from tensorflow<2.9,>=2.8.0->tensorflow_text) (2.8.0)\n",
            "Requirement already satisfied: tensorflow-io-gcs-filesystem>=0.23.1 in /usr/local/lib/python3.7/dist-packages (from tensorflow<2.9,>=2.8.0->tensorflow_text) (0.24.0)\n",
            "Requirement already satisfied: keras-preprocessing>=1.1.1 in /usr/local/lib/python3.7/dist-packages (from tensorflow<2.9,>=2.8.0->tensorflow_text) (1.1.2)\n",
            "Requirement already satisfied: wheel<1.0,>=0.23.0 in /usr/local/lib/python3.7/dist-packages (from astunparse>=1.6.0->tensorflow<2.9,>=2.8.0->tensorflow_text) (0.37.1)\n",
            "Requirement already satisfied: cached-property in /usr/local/lib/python3.7/dist-packages (from h5py>=2.9.0->tensorflow<2.9,>=2.8.0->tensorflow_text) (1.5.2)\n",
            "Requirement already satisfied: requests<3,>=2.21.0 in /usr/local/lib/python3.7/dist-packages (from tensorboard<2.9,>=2.8->tensorflow<2.9,>=2.8.0->tensorflow_text) (2.23.0)\n",
            "Requirement already satisfied: google-auth<3,>=1.6.3 in /usr/local/lib/python3.7/dist-packages (from tensorboard<2.9,>=2.8->tensorflow<2.9,>=2.8.0->tensorflow_text) (1.35.0)\n",
            "Requirement already satisfied: markdown>=2.6.8 in /usr/local/lib/python3.7/dist-packages (from tensorboard<2.9,>=2.8->tensorflow<2.9,>=2.8.0->tensorflow_text) (3.3.6)\n",
            "Requirement already satisfied: tensorboard-plugin-wit>=1.6.0 in /usr/local/lib/python3.7/dist-packages (from tensorboard<2.9,>=2.8->tensorflow<2.9,>=2.8.0->tensorflow_text) (1.8.1)\n",
            "Requirement already satisfied: tensorboard-data-server<0.7.0,>=0.6.0 in /usr/local/lib/python3.7/dist-packages (from tensorboard<2.9,>=2.8->tensorflow<2.9,>=2.8.0->tensorflow_text) (0.6.1)\n",
            "Requirement already satisfied: werkzeug>=0.11.15 in /usr/local/lib/python3.7/dist-packages (from tensorboard<2.9,>=2.8->tensorflow<2.9,>=2.8.0->tensorflow_text) (1.0.1)\n",
            "Requirement already satisfied: google-auth-oauthlib<0.5,>=0.4.1 in /usr/local/lib/python3.7/dist-packages (from tensorboard<2.9,>=2.8->tensorflow<2.9,>=2.8.0->tensorflow_text) (0.4.6)\n",
            "Requirement already satisfied: rsa<5,>=3.1.4 in /usr/local/lib/python3.7/dist-packages (from google-auth<3,>=1.6.3->tensorboard<2.9,>=2.8->tensorflow<2.9,>=2.8.0->tensorflow_text) (4.8)\n",
            "Requirement already satisfied: cachetools<5.0,>=2.0.0 in /usr/local/lib/python3.7/dist-packages (from google-auth<3,>=1.6.3->tensorboard<2.9,>=2.8->tensorflow<2.9,>=2.8.0->tensorflow_text) (4.2.4)\n",
            "Requirement already satisfied: pyasn1-modules>=0.2.1 in /usr/local/lib/python3.7/dist-packages (from google-auth<3,>=1.6.3->tensorboard<2.9,>=2.8->tensorflow<2.9,>=2.8.0->tensorflow_text) (0.2.8)\n",
            "Requirement already satisfied: requests-oauthlib>=0.7.0 in /usr/local/lib/python3.7/dist-packages (from google-auth-oauthlib<0.5,>=0.4.1->tensorboard<2.9,>=2.8->tensorflow<2.9,>=2.8.0->tensorflow_text) (1.3.1)\n",
            "Requirement already satisfied: importlib-metadata>=4.4 in /usr/local/lib/python3.7/dist-packages (from markdown>=2.6.8->tensorboard<2.9,>=2.8->tensorflow<2.9,>=2.8.0->tensorflow_text) (4.11.3)\n",
            "Requirement already satisfied: zipp>=0.5 in /usr/local/lib/python3.7/dist-packages (from importlib-metadata>=4.4->markdown>=2.6.8->tensorboard<2.9,>=2.8->tensorflow<2.9,>=2.8.0->tensorflow_text) (3.8.0)\n",
            "Requirement already satisfied: pyasn1<0.5.0,>=0.4.6 in /usr/local/lib/python3.7/dist-packages (from pyasn1-modules>=0.2.1->google-auth<3,>=1.6.3->tensorboard<2.9,>=2.8->tensorflow<2.9,>=2.8.0->tensorflow_text) (0.4.8)\n",
            "Requirement already satisfied: urllib3!=1.25.0,!=1.25.1,<1.26,>=1.21.1 in /usr/local/lib/python3.7/dist-packages (from requests<3,>=2.21.0->tensorboard<2.9,>=2.8->tensorflow<2.9,>=2.8.0->tensorflow_text) (1.24.3)\n",
            "Requirement already satisfied: idna<3,>=2.5 in /usr/local/lib/python3.7/dist-packages (from requests<3,>=2.21.0->tensorboard<2.9,>=2.8->tensorflow<2.9,>=2.8.0->tensorflow_text) (2.10)\n",
            "Requirement already satisfied: certifi>=2017.4.17 in /usr/local/lib/python3.7/dist-packages (from requests<3,>=2.21.0->tensorboard<2.9,>=2.8->tensorflow<2.9,>=2.8.0->tensorflow_text) (2021.10.8)\n",
            "Requirement already satisfied: chardet<4,>=3.0.2 in /usr/local/lib/python3.7/dist-packages (from requests<3,>=2.21.0->tensorboard<2.9,>=2.8->tensorflow<2.9,>=2.8.0->tensorflow_text) (3.0.4)\n",
            "Requirement already satisfied: oauthlib>=3.0.0 in /usr/local/lib/python3.7/dist-packages (from requests-oauthlib>=0.7.0->google-auth-oauthlib<0.5,>=0.4.1->tensorboard<2.9,>=2.8->tensorflow<2.9,>=2.8.0->tensorflow_text) (3.2.0)\n",
            "Installing collected packages: tf-estimator-nightly, tensorflow-text\n",
            "Successfully installed tensorflow-text-2.8.2 tf-estimator-nightly-2.8.0.dev2021122109\n"
          ]
        }
      ],
      "source": [
        "pip install tensorflow_text\n"
      ]
    },
    {
      "cell_type": "code",
      "execution_count": null,
      "metadata": {
        "colab": {
          "base_uri": "https://localhost:8080/"
        },
        "id": "f92t4VUlt0K0",
        "outputId": "d2c08536-e83e-4445-9074-d2a4533302de"
      },
      "outputs": [
        {
          "name": "stdout",
          "output_type": "stream",
          "text": [
            "Collecting bert-for-tf2\n",
            "  Downloading bert-for-tf2-0.14.9.tar.gz (41 kB)\n",
            "\u001b[K     |████████████████████████████████| 41 kB 159 kB/s \n",
            "\u001b[?25hCollecting py-params>=0.9.6\n",
            "  Downloading py-params-0.10.2.tar.gz (7.4 kB)\n",
            "Collecting params-flow>=0.8.0\n",
            "  Downloading params-flow-0.8.2.tar.gz (22 kB)\n",
            "Requirement already satisfied: numpy in /usr/local/lib/python3.7/dist-packages (from params-flow>=0.8.0->bert-for-tf2) (1.21.6)\n",
            "Requirement already satisfied: tqdm in /usr/local/lib/python3.7/dist-packages (from params-flow>=0.8.0->bert-for-tf2) (4.64.0)\n",
            "Building wheels for collected packages: bert-for-tf2, params-flow, py-params\n",
            "  Building wheel for bert-for-tf2 (setup.py) ... \u001b[?25l\u001b[?25hdone\n",
            "  Created wheel for bert-for-tf2: filename=bert_for_tf2-0.14.9-py3-none-any.whl size=30535 sha256=160d11e6ca78944a87f56f9a11ebb375898b1ee2026d485d473088d4782cd2a3\n",
            "  Stored in directory: /root/.cache/pip/wheels/47/b6/e5/8c76ec779f54bc5c2f1b57d2200bb9c77616da83873e8acb53\n",
            "  Building wheel for params-flow (setup.py) ... \u001b[?25l\u001b[?25hdone\n",
            "  Created wheel for params-flow: filename=params_flow-0.8.2-py3-none-any.whl size=19472 sha256=42b2e2cc6cfbe493d70faaeeac0c7c2e97baa71d0852502cebd835359e705359\n",
            "  Stored in directory: /root/.cache/pip/wheels/0e/fc/d2/a44fff33af0f233d7def6e7de413006d57c10e10ad736fe8f5\n",
            "  Building wheel for py-params (setup.py) ... \u001b[?25l\u001b[?25hdone\n",
            "  Created wheel for py-params: filename=py_params-0.10.2-py3-none-any.whl size=7911 sha256=40a0a690a200e76cd6fcd3680003d8ddf44178506c4a0d4600f256e1e503e4d8\n",
            "  Stored in directory: /root/.cache/pip/wheels/e1/11/67/33cc51bbee127cb8fb2ba549cd29109b2f22da43ddf9969716\n",
            "Successfully built bert-for-tf2 params-flow py-params\n",
            "Installing collected packages: py-params, params-flow, bert-for-tf2\n",
            "Successfully installed bert-for-tf2-0.14.9 params-flow-0.8.2 py-params-0.10.2\n"
          ]
        }
      ],
      "source": [
        "!pip install bert-for-tf2\n"
      ]
    },
    {
      "cell_type": "code",
      "execution_count": null,
      "metadata": {
        "colab": {
          "base_uri": "https://localhost:8080/"
        },
        "id": "wlmw209jt1dE",
        "outputId": "8635d1f1-38b6-4eeb-91b2-8674b8bb3138"
      },
      "outputs": [
        {
          "name": "stdout",
          "output_type": "stream",
          "text": [
            "Collecting sentencepiece\n",
            "  Downloading sentencepiece-0.1.96-cp37-cp37m-manylinux_2_17_x86_64.manylinux2014_x86_64.whl (1.2 MB)\n",
            "\u001b[?25l\r\u001b[K     |▎                               | 10 kB 31.5 MB/s eta 0:00:01\r\u001b[K     |▌                               | 20 kB 21.9 MB/s eta 0:00:01\r\u001b[K     |▉                               | 30 kB 16.7 MB/s eta 0:00:01\r\u001b[K     |█                               | 40 kB 15.1 MB/s eta 0:00:01\r\u001b[K     |█▍                              | 51 kB 6.7 MB/s eta 0:00:01\r\u001b[K     |█▋                              | 61 kB 7.9 MB/s eta 0:00:01\r\u001b[K     |██                              | 71 kB 8.6 MB/s eta 0:00:01\r\u001b[K     |██▏                             | 81 kB 8.7 MB/s eta 0:00:01\r\u001b[K     |██▍                             | 92 kB 9.7 MB/s eta 0:00:01\r\u001b[K     |██▊                             | 102 kB 7.9 MB/s eta 0:00:01\r\u001b[K     |███                             | 112 kB 7.9 MB/s eta 0:00:01\r\u001b[K     |███▎                            | 122 kB 7.9 MB/s eta 0:00:01\r\u001b[K     |███▌                            | 133 kB 7.9 MB/s eta 0:00:01\r\u001b[K     |███▉                            | 143 kB 7.9 MB/s eta 0:00:01\r\u001b[K     |████                            | 153 kB 7.9 MB/s eta 0:00:01\r\u001b[K     |████▎                           | 163 kB 7.9 MB/s eta 0:00:01\r\u001b[K     |████▋                           | 174 kB 7.9 MB/s eta 0:00:01\r\u001b[K     |████▉                           | 184 kB 7.9 MB/s eta 0:00:01\r\u001b[K     |█████▏                          | 194 kB 7.9 MB/s eta 0:00:01\r\u001b[K     |█████▍                          | 204 kB 7.9 MB/s eta 0:00:01\r\u001b[K     |█████▊                          | 215 kB 7.9 MB/s eta 0:00:01\r\u001b[K     |██████                          | 225 kB 7.9 MB/s eta 0:00:01\r\u001b[K     |██████▏                         | 235 kB 7.9 MB/s eta 0:00:01\r\u001b[K     |██████▌                         | 245 kB 7.9 MB/s eta 0:00:01\r\u001b[K     |██████▊                         | 256 kB 7.9 MB/s eta 0:00:01\r\u001b[K     |███████                         | 266 kB 7.9 MB/s eta 0:00:01\r\u001b[K     |███████▎                        | 276 kB 7.9 MB/s eta 0:00:01\r\u001b[K     |███████▋                        | 286 kB 7.9 MB/s eta 0:00:01\r\u001b[K     |███████▉                        | 296 kB 7.9 MB/s eta 0:00:01\r\u001b[K     |████████                        | 307 kB 7.9 MB/s eta 0:00:01\r\u001b[K     |████████▍                       | 317 kB 7.9 MB/s eta 0:00:01\r\u001b[K     |████████▋                       | 327 kB 7.9 MB/s eta 0:00:01\r\u001b[K     |█████████                       | 337 kB 7.9 MB/s eta 0:00:01\r\u001b[K     |█████████▏                      | 348 kB 7.9 MB/s eta 0:00:01\r\u001b[K     |█████████▌                      | 358 kB 7.9 MB/s eta 0:00:01\r\u001b[K     |█████████▊                      | 368 kB 7.9 MB/s eta 0:00:01\r\u001b[K     |██████████                      | 378 kB 7.9 MB/s eta 0:00:01\r\u001b[K     |██████████▎                     | 389 kB 7.9 MB/s eta 0:00:01\r\u001b[K     |██████████▌                     | 399 kB 7.9 MB/s eta 0:00:01\r\u001b[K     |██████████▉                     | 409 kB 7.9 MB/s eta 0:00:01\r\u001b[K     |███████████                     | 419 kB 7.9 MB/s eta 0:00:01\r\u001b[K     |███████████▍                    | 430 kB 7.9 MB/s eta 0:00:01\r\u001b[K     |███████████▋                    | 440 kB 7.9 MB/s eta 0:00:01\r\u001b[K     |███████████▉                    | 450 kB 7.9 MB/s eta 0:00:01\r\u001b[K     |████████████▏                   | 460 kB 7.9 MB/s eta 0:00:01\r\u001b[K     |████████████▍                   | 471 kB 7.9 MB/s eta 0:00:01\r\u001b[K     |████████████▊                   | 481 kB 7.9 MB/s eta 0:00:01\r\u001b[K     |█████████████                   | 491 kB 7.9 MB/s eta 0:00:01\r\u001b[K     |█████████████▎                  | 501 kB 7.9 MB/s eta 0:00:01\r\u001b[K     |█████████████▌                  | 512 kB 7.9 MB/s eta 0:00:01\r\u001b[K     |█████████████▊                  | 522 kB 7.9 MB/s eta 0:00:01\r\u001b[K     |██████████████                  | 532 kB 7.9 MB/s eta 0:00:01\r\u001b[K     |██████████████▎                 | 542 kB 7.9 MB/s eta 0:00:01\r\u001b[K     |██████████████▋                 | 552 kB 7.9 MB/s eta 0:00:01\r\u001b[K     |██████████████▉                 | 563 kB 7.9 MB/s eta 0:00:01\r\u001b[K     |███████████████▏                | 573 kB 7.9 MB/s eta 0:00:01\r\u001b[K     |███████████████▍                | 583 kB 7.9 MB/s eta 0:00:01\r\u001b[K     |███████████████▋                | 593 kB 7.9 MB/s eta 0:00:01\r\u001b[K     |████████████████                | 604 kB 7.9 MB/s eta 0:00:01\r\u001b[K     |████████████████▏               | 614 kB 7.9 MB/s eta 0:00:01\r\u001b[K     |████████████████▌               | 624 kB 7.9 MB/s eta 0:00:01\r\u001b[K     |████████████████▊               | 634 kB 7.9 MB/s eta 0:00:01\r\u001b[K     |█████████████████               | 645 kB 7.9 MB/s eta 0:00:01\r\u001b[K     |█████████████████▎              | 655 kB 7.9 MB/s eta 0:00:01\r\u001b[K     |█████████████████▌              | 665 kB 7.9 MB/s eta 0:00:01\r\u001b[K     |█████████████████▉              | 675 kB 7.9 MB/s eta 0:00:01\r\u001b[K     |██████████████████              | 686 kB 7.9 MB/s eta 0:00:01\r\u001b[K     |██████████████████▍             | 696 kB 7.9 MB/s eta 0:00:01\r\u001b[K     |██████████████████▋             | 706 kB 7.9 MB/s eta 0:00:01\r\u001b[K     |███████████████████             | 716 kB 7.9 MB/s eta 0:00:01\r\u001b[K     |███████████████████▏            | 727 kB 7.9 MB/s eta 0:00:01\r\u001b[K     |███████████████████▍            | 737 kB 7.9 MB/s eta 0:00:01\r\u001b[K     |███████████████████▊            | 747 kB 7.9 MB/s eta 0:00:01\r\u001b[K     |████████████████████            | 757 kB 7.9 MB/s eta 0:00:01\r\u001b[K     |████████████████████▎           | 768 kB 7.9 MB/s eta 0:00:01\r\u001b[K     |████████████████████▌           | 778 kB 7.9 MB/s eta 0:00:01\r\u001b[K     |████████████████████▉           | 788 kB 7.9 MB/s eta 0:00:01\r\u001b[K     |█████████████████████           | 798 kB 7.9 MB/s eta 0:00:01\r\u001b[K     |█████████████████████▎          | 808 kB 7.9 MB/s eta 0:00:01\r\u001b[K     |█████████████████████▋          | 819 kB 7.9 MB/s eta 0:00:01\r\u001b[K     |█████████████████████▉          | 829 kB 7.9 MB/s eta 0:00:01\r\u001b[K     |██████████████████████▏         | 839 kB 7.9 MB/s eta 0:00:01\r\u001b[K     |██████████████████████▍         | 849 kB 7.9 MB/s eta 0:00:01\r\u001b[K     |██████████████████████▊         | 860 kB 7.9 MB/s eta 0:00:01\r\u001b[K     |███████████████████████         | 870 kB 7.9 MB/s eta 0:00:01\r\u001b[K     |███████████████████████▏        | 880 kB 7.9 MB/s eta 0:00:01\r\u001b[K     |███████████████████████▌        | 890 kB 7.9 MB/s eta 0:00:01\r\u001b[K     |███████████████████████▊        | 901 kB 7.9 MB/s eta 0:00:01\r\u001b[K     |████████████████████████        | 911 kB 7.9 MB/s eta 0:00:01\r\u001b[K     |████████████████████████▎       | 921 kB 7.9 MB/s eta 0:00:01\r\u001b[K     |████████████████████████▋       | 931 kB 7.9 MB/s eta 0:00:01\r\u001b[K     |████████████████████████▉       | 942 kB 7.9 MB/s eta 0:00:01\r\u001b[K     |█████████████████████████       | 952 kB 7.9 MB/s eta 0:00:01\r\u001b[K     |█████████████████████████▍      | 962 kB 7.9 MB/s eta 0:00:01\r\u001b[K     |█████████████████████████▋      | 972 kB 7.9 MB/s eta 0:00:01\r\u001b[K     |██████████████████████████      | 983 kB 7.9 MB/s eta 0:00:01\r\u001b[K     |██████████████████████████▏     | 993 kB 7.9 MB/s eta 0:00:01\r\u001b[K     |██████████████████████████▌     | 1.0 MB 7.9 MB/s eta 0:00:01\r\u001b[K     |██████████████████████████▊     | 1.0 MB 7.9 MB/s eta 0:00:01\r\u001b[K     |███████████████████████████     | 1.0 MB 7.9 MB/s eta 0:00:01\r\u001b[K     |███████████████████████████▎    | 1.0 MB 7.9 MB/s eta 0:00:01\r\u001b[K     |███████████████████████████▌    | 1.0 MB 7.9 MB/s eta 0:00:01\r\u001b[K     |███████████████████████████▉    | 1.1 MB 7.9 MB/s eta 0:00:01\r\u001b[K     |████████████████████████████    | 1.1 MB 7.9 MB/s eta 0:00:01\r\u001b[K     |████████████████████████████▍   | 1.1 MB 7.9 MB/s eta 0:00:01\r\u001b[K     |████████████████████████████▋   | 1.1 MB 7.9 MB/s eta 0:00:01\r\u001b[K     |████████████████████████████▉   | 1.1 MB 7.9 MB/s eta 0:00:01\r\u001b[K     |█████████████████████████████▏  | 1.1 MB 7.9 MB/s eta 0:00:01\r\u001b[K     |█████████████████████████████▍  | 1.1 MB 7.9 MB/s eta 0:00:01\r\u001b[K     |█████████████████████████████▊  | 1.1 MB 7.9 MB/s eta 0:00:01\r\u001b[K     |██████████████████████████████  | 1.1 MB 7.9 MB/s eta 0:00:01\r\u001b[K     |██████████████████████████████▎ | 1.1 MB 7.9 MB/s eta 0:00:01\r\u001b[K     |██████████████████████████████▌ | 1.2 MB 7.9 MB/s eta 0:00:01\r\u001b[K     |██████████████████████████████▊ | 1.2 MB 7.9 MB/s eta 0:00:01\r\u001b[K     |███████████████████████████████ | 1.2 MB 7.9 MB/s eta 0:00:01\r\u001b[K     |███████████████████████████████▎| 1.2 MB 7.9 MB/s eta 0:00:01\r\u001b[K     |███████████████████████████████▋| 1.2 MB 7.9 MB/s eta 0:00:01\r\u001b[K     |███████████████████████████████▉| 1.2 MB 7.9 MB/s eta 0:00:01\r\u001b[K     |████████████████████████████████| 1.2 MB 7.9 MB/s \n",
            "\u001b[?25hInstalling collected packages: sentencepiece\n",
            "Successfully installed sentencepiece-0.1.96\n"
          ]
        }
      ],
      "source": [
        "!pip install sentencepiece"
      ]
    },
    {
      "cell_type": "code",
      "execution_count": null,
      "metadata": {
        "colab": {
          "base_uri": "https://localhost:8080/"
        },
        "id": "2Umd_7L5jDkV",
        "outputId": "fa97f4ee-c950-408c-a403-eee7f5c73a84"
      },
      "outputs": [
        {
          "name": "stdout",
          "output_type": "stream",
          "text": [
            "Collecting tf-models-official\n",
            "  Downloading tf_models_official-2.8.0-py2.py3-none-any.whl (2.2 MB)\n",
            "\u001b[K     |████████████████████████████████| 2.2 MB 10.1 MB/s \n",
            "\u001b[?25hCollecting tf-slim>=1.1.0\n",
            "  Downloading tf_slim-1.1.0-py2.py3-none-any.whl (352 kB)\n",
            "\u001b[K     |████████████████████████████████| 352 kB 48.2 MB/s \n",
            "\u001b[?25hRequirement already satisfied: pycocotools in /usr/local/lib/python3.7/dist-packages (from tf-models-official) (2.0.4)\n",
            "Requirement already satisfied: tensorflow-hub>=0.6.0 in /usr/local/lib/python3.7/dist-packages (from tf-models-official) (0.12.0)\n",
            "Requirement already satisfied: kaggle>=1.3.9 in /usr/local/lib/python3.7/dist-packages (from tf-models-official) (1.5.12)\n",
            "Requirement already satisfied: matplotlib in /usr/local/lib/python3.7/dist-packages (from tf-models-official) (3.2.2)\n",
            "Requirement already satisfied: oauth2client in /usr/local/lib/python3.7/dist-packages (from tf-models-official) (4.1.3)\n",
            "Collecting tensorflow-addons\n",
            "  Downloading tensorflow_addons-0.16.1-cp37-cp37m-manylinux_2_12_x86_64.manylinux2010_x86_64.whl (1.1 MB)\n",
            "\u001b[K     |████████████████████████████████| 1.1 MB 53.1 MB/s \n",
            "\u001b[?25hRequirement already satisfied: tensorflow~=2.8.0 in /usr/local/lib/python3.7/dist-packages (from tf-models-official) (2.8.0)\n",
            "Collecting sacrebleu\n",
            "  Downloading sacrebleu-2.0.0-py3-none-any.whl (90 kB)\n",
            "\u001b[K     |████████████████████████████████| 90 kB 12.2 MB/s \n",
            "\u001b[?25hCollecting py-cpuinfo>=3.3.0\n",
            "  Downloading py-cpuinfo-8.0.0.tar.gz (99 kB)\n",
            "\u001b[K     |████████████████████████████████| 99 kB 11.5 MB/s \n",
            "\u001b[?25hRequirement already satisfied: scipy>=0.19.1 in /usr/local/lib/python3.7/dist-packages (from tf-models-official) (1.4.1)\n",
            "Collecting pyyaml<6.0,>=5.1\n",
            "  Downloading PyYAML-5.4.1-cp37-cp37m-manylinux1_x86_64.whl (636 kB)\n",
            "\u001b[K     |████████████████████████████████| 636 kB 37.4 MB/s \n",
            "\u001b[?25hRequirement already satisfied: Cython in /usr/local/lib/python3.7/dist-packages (from tf-models-official) (0.29.28)\n",
            "Collecting opencv-python-headless\n",
            "  Downloading opencv_python_headless-4.5.5.64-cp36-abi3-manylinux_2_17_x86_64.manylinux2014_x86_64.whl (47.8 MB)\n",
            "\u001b[K     |████████████████████████████████| 47.8 MB 1.8 MB/s \n",
            "\u001b[?25hRequirement already satisfied: tensorflow-datasets in /usr/local/lib/python3.7/dist-packages (from tf-models-official) (4.0.1)\n",
            "Collecting seqeval\n",
            "  Downloading seqeval-1.2.2.tar.gz (43 kB)\n",
            "\u001b[K     |████████████████████████████████| 43 kB 2.4 MB/s \n",
            "\u001b[?25hCollecting tensorflow-model-optimization>=0.4.1\n",
            "  Downloading tensorflow_model_optimization-0.7.2-py2.py3-none-any.whl (237 kB)\n",
            "\u001b[K     |████████████████████████████████| 237 kB 46.6 MB/s \n",
            "\u001b[?25hRequirement already satisfied: sentencepiece in /usr/local/lib/python3.7/dist-packages (from tf-models-official) (0.1.96)\n",
            "Requirement already satisfied: six in /usr/local/lib/python3.7/dist-packages (from tf-models-official) (1.15.0)\n",
            "Requirement already satisfied: Pillow in /usr/local/lib/python3.7/dist-packages (from tf-models-official) (7.1.2)\n",
            "Requirement already satisfied: gin-config in /usr/local/lib/python3.7/dist-packages (from tf-models-official) (0.5.0)\n",
            "Requirement already satisfied: numpy>=1.15.4 in /usr/local/lib/python3.7/dist-packages (from tf-models-official) (1.21.6)\n",
            "Requirement already satisfied: psutil>=5.4.3 in /usr/local/lib/python3.7/dist-packages (from tf-models-official) (5.4.8)\n",
            "Requirement already satisfied: pandas>=0.22.0 in /usr/local/lib/python3.7/dist-packages (from tf-models-official) (1.3.5)\n",
            "Requirement already satisfied: google-api-python-client>=1.6.7 in /usr/local/lib/python3.7/dist-packages (from tf-models-official) (1.12.11)\n",
            "Requirement already satisfied: tensorflow-text~=2.8.0 in /usr/local/lib/python3.7/dist-packages (from tf-models-official) (2.8.2)\n",
            "Requirement already satisfied: google-auth-httplib2>=0.0.3 in /usr/local/lib/python3.7/dist-packages (from google-api-python-client>=1.6.7->tf-models-official) (0.0.4)\n",
            "Requirement already satisfied: httplib2<1dev,>=0.15.0 in /usr/local/lib/python3.7/dist-packages (from google-api-python-client>=1.6.7->tf-models-official) (0.17.4)\n",
            "Requirement already satisfied: google-auth<3dev,>=1.16.0 in /usr/local/lib/python3.7/dist-packages (from google-api-python-client>=1.6.7->tf-models-official) (1.35.0)\n",
            "Requirement already satisfied: uritemplate<4dev,>=3.0.0 in /usr/local/lib/python3.7/dist-packages (from google-api-python-client>=1.6.7->tf-models-official) (3.0.1)\n",
            "Requirement already satisfied: google-api-core<3dev,>=1.21.0 in /usr/local/lib/python3.7/dist-packages (from google-api-python-client>=1.6.7->tf-models-official) (1.31.5)\n",
            "Requirement already satisfied: packaging>=14.3 in /usr/local/lib/python3.7/dist-packages (from google-api-core<3dev,>=1.21.0->google-api-python-client>=1.6.7->tf-models-official) (21.3)\n",
            "Requirement already satisfied: pytz in /usr/local/lib/python3.7/dist-packages (from google-api-core<3dev,>=1.21.0->google-api-python-client>=1.6.7->tf-models-official) (2022.1)\n",
            "Requirement already satisfied: requests<3.0.0dev,>=2.18.0 in /usr/local/lib/python3.7/dist-packages (from google-api-core<3dev,>=1.21.0->google-api-python-client>=1.6.7->tf-models-official) (2.23.0)\n",
            "Requirement already satisfied: googleapis-common-protos<2.0dev,>=1.6.0 in /usr/local/lib/python3.7/dist-packages (from google-api-core<3dev,>=1.21.0->google-api-python-client>=1.6.7->tf-models-official) (1.56.0)\n",
            "Requirement already satisfied: protobuf>=3.12.0 in /usr/local/lib/python3.7/dist-packages (from google-api-core<3dev,>=1.21.0->google-api-python-client>=1.6.7->tf-models-official) (3.17.3)\n",
            "Requirement already satisfied: setuptools>=40.3.0 in /usr/local/lib/python3.7/dist-packages (from google-api-core<3dev,>=1.21.0->google-api-python-client>=1.6.7->tf-models-official) (57.4.0)\n",
            "Requirement already satisfied: rsa<5,>=3.1.4 in /usr/local/lib/python3.7/dist-packages (from google-auth<3dev,>=1.16.0->google-api-python-client>=1.6.7->tf-models-official) (4.8)\n",
            "Requirement already satisfied: pyasn1-modules>=0.2.1 in /usr/local/lib/python3.7/dist-packages (from google-auth<3dev,>=1.16.0->google-api-python-client>=1.6.7->tf-models-official) (0.2.8)\n",
            "Requirement already satisfied: cachetools<5.0,>=2.0.0 in /usr/local/lib/python3.7/dist-packages (from google-auth<3dev,>=1.16.0->google-api-python-client>=1.6.7->tf-models-official) (4.2.4)\n",
            "Requirement already satisfied: tqdm in /usr/local/lib/python3.7/dist-packages (from kaggle>=1.3.9->tf-models-official) (4.64.0)\n",
            "Requirement already satisfied: python-slugify in /usr/local/lib/python3.7/dist-packages (from kaggle>=1.3.9->tf-models-official) (6.1.1)\n",
            "Requirement already satisfied: urllib3 in /usr/local/lib/python3.7/dist-packages (from kaggle>=1.3.9->tf-models-official) (1.24.3)\n",
            "Requirement already satisfied: certifi in /usr/local/lib/python3.7/dist-packages (from kaggle>=1.3.9->tf-models-official) (2021.10.8)\n",
            "Requirement already satisfied: python-dateutil in /usr/local/lib/python3.7/dist-packages (from kaggle>=1.3.9->tf-models-official) (2.8.2)\n",
            "Requirement already satisfied: pyparsing!=3.0.5,>=2.0.2 in /usr/local/lib/python3.7/dist-packages (from packaging>=14.3->google-api-core<3dev,>=1.21.0->google-api-python-client>=1.6.7->tf-models-official) (3.0.8)\n",
            "Requirement already satisfied: pyasn1<0.5.0,>=0.4.6 in /usr/local/lib/python3.7/dist-packages (from pyasn1-modules>=0.2.1->google-auth<3dev,>=1.16.0->google-api-python-client>=1.6.7->tf-models-official) (0.4.8)\n",
            "Requirement already satisfied: chardet<4,>=3.0.2 in /usr/local/lib/python3.7/dist-packages (from requests<3.0.0dev,>=2.18.0->google-api-core<3dev,>=1.21.0->google-api-python-client>=1.6.7->tf-models-official) (3.0.4)\n",
            "Requirement already satisfied: idna<3,>=2.5 in /usr/local/lib/python3.7/dist-packages (from requests<3.0.0dev,>=2.18.0->google-api-core<3dev,>=1.21.0->google-api-python-client>=1.6.7->tf-models-official) (2.10)\n",
            "Requirement already satisfied: tensorboard<2.9,>=2.8 in /usr/local/lib/python3.7/dist-packages (from tensorflow~=2.8.0->tf-models-official) (2.8.0)\n",
            "Requirement already satisfied: tf-estimator-nightly==2.8.0.dev2021122109 in /usr/local/lib/python3.7/dist-packages (from tensorflow~=2.8.0->tf-models-official) (2.8.0.dev2021122109)\n",
            "Requirement already satisfied: libclang>=9.0.1 in /usr/local/lib/python3.7/dist-packages (from tensorflow~=2.8.0->tf-models-official) (13.0.0)\n",
            "Requirement already satisfied: gast>=0.2.1 in /usr/local/lib/python3.7/dist-packages (from tensorflow~=2.8.0->tf-models-official) (0.5.3)\n",
            "Requirement already satisfied: grpcio<2.0,>=1.24.3 in /usr/local/lib/python3.7/dist-packages (from tensorflow~=2.8.0->tf-models-official) (1.44.0)\n",
            "Requirement already satisfied: keras-preprocessing>=1.1.1 in /usr/local/lib/python3.7/dist-packages (from tensorflow~=2.8.0->tf-models-official) (1.1.2)\n",
            "Requirement already satisfied: opt-einsum>=2.3.2 in /usr/local/lib/python3.7/dist-packages (from tensorflow~=2.8.0->tf-models-official) (3.3.0)\n",
            "Requirement already satisfied: tensorflow-io-gcs-filesystem>=0.23.1 in /usr/local/lib/python3.7/dist-packages (from tensorflow~=2.8.0->tf-models-official) (0.24.0)\n",
            "Requirement already satisfied: wrapt>=1.11.0 in /usr/local/lib/python3.7/dist-packages (from tensorflow~=2.8.0->tf-models-official) (1.14.0)\n",
            "Requirement already satisfied: keras<2.9,>=2.8.0rc0 in /usr/local/lib/python3.7/dist-packages (from tensorflow~=2.8.0->tf-models-official) (2.8.0)\n",
            "Requirement already satisfied: flatbuffers>=1.12 in /usr/local/lib/python3.7/dist-packages (from tensorflow~=2.8.0->tf-models-official) (2.0)\n",
            "Requirement already satisfied: h5py>=2.9.0 in /usr/local/lib/python3.7/dist-packages (from tensorflow~=2.8.0->tf-models-official) (3.1.0)\n",
            "Requirement already satisfied: astunparse>=1.6.0 in /usr/local/lib/python3.7/dist-packages (from tensorflow~=2.8.0->tf-models-official) (1.6.3)\n",
            "Requirement already satisfied: google-pasta>=0.1.1 in /usr/local/lib/python3.7/dist-packages (from tensorflow~=2.8.0->tf-models-official) (0.2.0)\n",
            "Requirement already satisfied: absl-py>=0.4.0 in /usr/local/lib/python3.7/dist-packages (from tensorflow~=2.8.0->tf-models-official) (1.0.0)\n",
            "Requirement already satisfied: termcolor>=1.1.0 in /usr/local/lib/python3.7/dist-packages (from tensorflow~=2.8.0->tf-models-official) (1.1.0)\n",
            "Requirement already satisfied: typing-extensions>=3.6.6 in /usr/local/lib/python3.7/dist-packages (from tensorflow~=2.8.0->tf-models-official) (4.2.0)\n",
            "Requirement already satisfied: wheel<1.0,>=0.23.0 in /usr/local/lib/python3.7/dist-packages (from astunparse>=1.6.0->tensorflow~=2.8.0->tf-models-official) (0.37.1)\n",
            "Requirement already satisfied: cached-property in /usr/local/lib/python3.7/dist-packages (from h5py>=2.9.0->tensorflow~=2.8.0->tf-models-official) (1.5.2)\n",
            "Requirement already satisfied: tensorboard-plugin-wit>=1.6.0 in /usr/local/lib/python3.7/dist-packages (from tensorboard<2.9,>=2.8->tensorflow~=2.8.0->tf-models-official) (1.8.1)\n",
            "Requirement already satisfied: google-auth-oauthlib<0.5,>=0.4.1 in /usr/local/lib/python3.7/dist-packages (from tensorboard<2.9,>=2.8->tensorflow~=2.8.0->tf-models-official) (0.4.6)\n",
            "Requirement already satisfied: markdown>=2.6.8 in /usr/local/lib/python3.7/dist-packages (from tensorboard<2.9,>=2.8->tensorflow~=2.8.0->tf-models-official) (3.3.6)\n",
            "Requirement already satisfied: tensorboard-data-server<0.7.0,>=0.6.0 in /usr/local/lib/python3.7/dist-packages (from tensorboard<2.9,>=2.8->tensorflow~=2.8.0->tf-models-official) (0.6.1)\n",
            "Requirement already satisfied: werkzeug>=0.11.15 in /usr/local/lib/python3.7/dist-packages (from tensorboard<2.9,>=2.8->tensorflow~=2.8.0->tf-models-official) (1.0.1)\n",
            "Requirement already satisfied: requests-oauthlib>=0.7.0 in /usr/local/lib/python3.7/dist-packages (from google-auth-oauthlib<0.5,>=0.4.1->tensorboard<2.9,>=2.8->tensorflow~=2.8.0->tf-models-official) (1.3.1)\n",
            "Requirement already satisfied: importlib-metadata>=4.4 in /usr/local/lib/python3.7/dist-packages (from markdown>=2.6.8->tensorboard<2.9,>=2.8->tensorflow~=2.8.0->tf-models-official) (4.11.3)\n",
            "Requirement already satisfied: zipp>=0.5 in /usr/local/lib/python3.7/dist-packages (from importlib-metadata>=4.4->markdown>=2.6.8->tensorboard<2.9,>=2.8->tensorflow~=2.8.0->tf-models-official) (3.8.0)\n",
            "Requirement already satisfied: oauthlib>=3.0.0 in /usr/local/lib/python3.7/dist-packages (from requests-oauthlib>=0.7.0->google-auth-oauthlib<0.5,>=0.4.1->tensorboard<2.9,>=2.8->tensorflow~=2.8.0->tf-models-official) (3.2.0)\n",
            "Requirement already satisfied: dm-tree~=0.1.1 in /usr/local/lib/python3.7/dist-packages (from tensorflow-model-optimization>=0.4.1->tf-models-official) (0.1.7)\n",
            "Requirement already satisfied: kiwisolver>=1.0.1 in /usr/local/lib/python3.7/dist-packages (from matplotlib->tf-models-official) (1.4.2)\n",
            "Requirement already satisfied: cycler>=0.10 in /usr/local/lib/python3.7/dist-packages (from matplotlib->tf-models-official) (0.11.0)\n",
            "Requirement already satisfied: text-unidecode>=1.3 in /usr/local/lib/python3.7/dist-packages (from python-slugify->kaggle>=1.3.9->tf-models-official) (1.3)\n",
            "Requirement already satisfied: tabulate>=0.8.9 in /usr/local/lib/python3.7/dist-packages (from sacrebleu->tf-models-official) (0.8.9)\n",
            "Collecting portalocker\n",
            "  Downloading portalocker-2.4.0-py2.py3-none-any.whl (16 kB)\n",
            "Requirement already satisfied: regex in /usr/local/lib/python3.7/dist-packages (from sacrebleu->tf-models-official) (2019.12.20)\n",
            "Collecting colorama\n",
            "  Downloading colorama-0.4.4-py2.py3-none-any.whl (16 kB)\n",
            "Requirement already satisfied: scikit-learn>=0.21.3 in /usr/local/lib/python3.7/dist-packages (from seqeval->tf-models-official) (1.0.2)\n",
            "Requirement already satisfied: joblib>=0.11 in /usr/local/lib/python3.7/dist-packages (from scikit-learn>=0.21.3->seqeval->tf-models-official) (1.1.0)\n",
            "Requirement already satisfied: threadpoolctl>=2.0.0 in /usr/local/lib/python3.7/dist-packages (from scikit-learn>=0.21.3->seqeval->tf-models-official) (3.1.0)\n",
            "Requirement already satisfied: typeguard>=2.7 in /usr/local/lib/python3.7/dist-packages (from tensorflow-addons->tf-models-official) (2.7.1)\n",
            "Requirement already satisfied: promise in /usr/local/lib/python3.7/dist-packages (from tensorflow-datasets->tf-models-official) (2.3)\n",
            "Requirement already satisfied: future in /usr/local/lib/python3.7/dist-packages (from tensorflow-datasets->tf-models-official) (0.16.0)\n",
            "Requirement already satisfied: tensorflow-metadata in /usr/local/lib/python3.7/dist-packages (from tensorflow-datasets->tf-models-official) (1.7.0)\n",
            "Requirement already satisfied: dill in /usr/local/lib/python3.7/dist-packages (from tensorflow-datasets->tf-models-official) (0.3.4)\n",
            "Requirement already satisfied: attrs>=18.1.0 in /usr/local/lib/python3.7/dist-packages (from tensorflow-datasets->tf-models-official) (21.4.0)\n",
            "Requirement already satisfied: importlib-resources in /usr/local/lib/python3.7/dist-packages (from tensorflow-datasets->tf-models-official) (5.7.1)\n",
            "Building wheels for collected packages: py-cpuinfo, seqeval\n",
            "  Building wheel for py-cpuinfo (setup.py) ... \u001b[?25l\u001b[?25hdone\n",
            "  Created wheel for py-cpuinfo: filename=py_cpuinfo-8.0.0-py3-none-any.whl size=22257 sha256=a460b7cee16bed3ed7651e1412fc1b015a990ea3a216220decc57c177df016fc\n",
            "  Stored in directory: /root/.cache/pip/wheels/d2/f1/1f/041add21dc9c4220157f1bd2bd6afe1f1a49524c3396b94401\n",
            "  Building wheel for seqeval (setup.py) ... \u001b[?25l\u001b[?25hdone\n",
            "  Created wheel for seqeval: filename=seqeval-1.2.2-py3-none-any.whl size=16180 sha256=bf8d119ede40265d93fec65f5e7214b1865038903a40067dbd05319a5f1b91ec\n",
            "  Stored in directory: /root/.cache/pip/wheels/05/96/ee/7cac4e74f3b19e3158dce26a20a1c86b3533c43ec72a549fd7\n",
            "Successfully built py-cpuinfo seqeval\n",
            "Installing collected packages: portalocker, colorama, tf-slim, tensorflow-model-optimization, tensorflow-addons, seqeval, sacrebleu, pyyaml, py-cpuinfo, opencv-python-headless, tf-models-official\n",
            "  Attempting uninstall: pyyaml\n",
            "    Found existing installation: PyYAML 3.13\n",
            "    Uninstalling PyYAML-3.13:\n",
            "      Successfully uninstalled PyYAML-3.13\n",
            "Successfully installed colorama-0.4.4 opencv-python-headless-4.5.5.64 portalocker-2.4.0 py-cpuinfo-8.0.0 pyyaml-5.4.1 sacrebleu-2.0.0 seqeval-1.2.2 tensorflow-addons-0.16.1 tensorflow-model-optimization-0.7.2 tf-models-official-2.8.0 tf-slim-1.1.0\n"
          ]
        }
      ],
      "source": [
        "pip install tf-models-official"
      ]
    },
    {
      "cell_type": "code",
      "execution_count": null,
      "metadata": {
        "id": "mjL5FSmigL8G"
      },
      "outputs": [],
      "source": [
        "import nltk\n",
        "import pandas as pd\n",
        "import tensorflow as tf\n",
        "import tensorflow_hub as hub\n",
        "import tensorflow_text as text \n",
        "from keras.models import Model\n",
        "from keras.layers import Input\n",
        "from keras.layers import Dense\n",
        "from keras.layers import Flatten\n",
        "from keras.layers import BatchNormalization\n",
        "from tensorflow.keras.layers import LSTM\n",
        "import numpy as np\n",
        "import pandas as pd\n",
        "\n"
      ]
    },
    {
      "cell_type": "code",
      "execution_count": null,
      "metadata": {
        "id": "6PwGNnMRjz0W"
      },
      "outputs": [],
      "source": [
        "\n",
        "import tensorflow as tf\n",
        "\n",
        "import tensorflow_hub as hub\n",
        "\n",
        "from tensorflow.keras import layers\n",
        "import bert"
      ]
    },
    {
      "cell_type": "code",
      "execution_count": null,
      "metadata": {
        "colab": {
          "base_uri": "https://localhost:8080/",
          "height": 423
        },
        "id": "j2s1dukygXD-",
        "outputId": "e67a4331-b59c-4405-e2ea-9ea2a04935be"
      },
      "outputs": [
        {
          "data": {
            "text/html": [
              "\n",
              "  <div id=\"df-27311970-a635-4381-8c95-7175bc119824\">\n",
              "    <div class=\"colab-df-container\">\n",
              "      <div>\n",
              "<style scoped>\n",
              "    .dataframe tbody tr th:only-of-type {\n",
              "        vertical-align: middle;\n",
              "    }\n",
              "\n",
              "    .dataframe tbody tr th {\n",
              "        vertical-align: top;\n",
              "    }\n",
              "\n",
              "    .dataframe thead th {\n",
              "        text-align: right;\n",
              "    }\n",
              "</style>\n",
              "<table border=\"1\" class=\"dataframe\">\n",
              "  <thead>\n",
              "    <tr style=\"text-align: right;\">\n",
              "      <th></th>\n",
              "      <th>Transcription</th>\n",
              "      <th>Truthful</th>\n",
              "    </tr>\n",
              "  </thead>\n",
              "  <tbody>\n",
              "    <tr>\n",
              "      <th>0</th>\n",
              "      <td>My best friend is a really nice person. Um. Sh...</td>\n",
              "      <td>1</td>\n",
              "    </tr>\n",
              "    <tr>\n",
              "      <th>1</th>\n",
              "      <td>She’s actually really two faced and not fun to...</td>\n",
              "      <td>0</td>\n",
              "    </tr>\n",
              "    <tr>\n",
              "      <th>2</th>\n",
              "      <td>So this specific person is actually just a rea...</td>\n",
              "      <td>1</td>\n",
              "    </tr>\n",
              "    <tr>\n",
              "      <th>3</th>\n",
              "      <td>This person is actually a really kind person. ...</td>\n",
              "      <td>0</td>\n",
              "    </tr>\n",
              "    <tr>\n",
              "      <th>4</th>\n",
              "      <td>My roommate is a really good person. She’s ver...</td>\n",
              "      <td>0</td>\n",
              "    </tr>\n",
              "    <tr>\n",
              "      <th>...</th>\n",
              "      <td>...</td>\n",
              "      <td>...</td>\n",
              "    </tr>\n",
              "    <tr>\n",
              "      <th>315</th>\n",
              "      <td>He’s a really good guy. Uh. He’s always cleani...</td>\n",
              "      <td>1</td>\n",
              "    </tr>\n",
              "    <tr>\n",
              "      <th>316</th>\n",
              "      <td>My roommate is a great guy. There is many grea...</td>\n",
              "      <td>0</td>\n",
              "    </tr>\n",
              "    <tr>\n",
              "      <th>317</th>\n",
              "      <td>My roommate is insufferable. He is, uh, comple...</td>\n",
              "      <td>0</td>\n",
              "    </tr>\n",
              "    <tr>\n",
              "      <th>318</th>\n",
              "      <td>My cousin is a terrible person. She makes me r...</td>\n",
              "      <td>0</td>\n",
              "    </tr>\n",
              "    <tr>\n",
              "      <th>319</th>\n",
              "      <td>I have a cousin who can literally make me smil...</td>\n",
              "      <td>1</td>\n",
              "    </tr>\n",
              "  </tbody>\n",
              "</table>\n",
              "<p>320 rows × 2 columns</p>\n",
              "</div>\n",
              "      <button class=\"colab-df-convert\" onclick=\"convertToInteractive('df-27311970-a635-4381-8c95-7175bc119824')\"\n",
              "              title=\"Convert this dataframe to an interactive table.\"\n",
              "              style=\"display:none;\">\n",
              "        \n",
              "  <svg xmlns=\"http://www.w3.org/2000/svg\" height=\"24px\"viewBox=\"0 0 24 24\"\n",
              "       width=\"24px\">\n",
              "    <path d=\"M0 0h24v24H0V0z\" fill=\"none\"/>\n",
              "    <path d=\"M18.56 5.44l.94 2.06.94-2.06 2.06-.94-2.06-.94-.94-2.06-.94 2.06-2.06.94zm-11 1L8.5 8.5l.94-2.06 2.06-.94-2.06-.94L8.5 2.5l-.94 2.06-2.06.94zm10 10l.94 2.06.94-2.06 2.06-.94-2.06-.94-.94-2.06-.94 2.06-2.06.94z\"/><path d=\"M17.41 7.96l-1.37-1.37c-.4-.4-.92-.59-1.43-.59-.52 0-1.04.2-1.43.59L10.3 9.45l-7.72 7.72c-.78.78-.78 2.05 0 2.83L4 21.41c.39.39.9.59 1.41.59.51 0 1.02-.2 1.41-.59l7.78-7.78 2.81-2.81c.8-.78.8-2.07 0-2.86zM5.41 20L4 18.59l7.72-7.72 1.47 1.35L5.41 20z\"/>\n",
              "  </svg>\n",
              "      </button>\n",
              "      \n",
              "  <style>\n",
              "    .colab-df-container {\n",
              "      display:flex;\n",
              "      flex-wrap:wrap;\n",
              "      gap: 12px;\n",
              "    }\n",
              "\n",
              "    .colab-df-convert {\n",
              "      background-color: #E8F0FE;\n",
              "      border: none;\n",
              "      border-radius: 50%;\n",
              "      cursor: pointer;\n",
              "      display: none;\n",
              "      fill: #1967D2;\n",
              "      height: 32px;\n",
              "      padding: 0 0 0 0;\n",
              "      width: 32px;\n",
              "    }\n",
              "\n",
              "    .colab-df-convert:hover {\n",
              "      background-color: #E2EBFA;\n",
              "      box-shadow: 0px 1px 2px rgba(60, 64, 67, 0.3), 0px 1px 3px 1px rgba(60, 64, 67, 0.15);\n",
              "      fill: #174EA6;\n",
              "    }\n",
              "\n",
              "    [theme=dark] .colab-df-convert {\n",
              "      background-color: #3B4455;\n",
              "      fill: #D2E3FC;\n",
              "    }\n",
              "\n",
              "    [theme=dark] .colab-df-convert:hover {\n",
              "      background-color: #434B5C;\n",
              "      box-shadow: 0px 1px 3px 1px rgba(0, 0, 0, 0.15);\n",
              "      filter: drop-shadow(0px 1px 2px rgba(0, 0, 0, 0.3));\n",
              "      fill: #FFFFFF;\n",
              "    }\n",
              "  </style>\n",
              "\n",
              "      <script>\n",
              "        const buttonEl =\n",
              "          document.querySelector('#df-27311970-a635-4381-8c95-7175bc119824 button.colab-df-convert');\n",
              "        buttonEl.style.display =\n",
              "          google.colab.kernel.accessAllowed ? 'block' : 'none';\n",
              "\n",
              "        async function convertToInteractive(key) {\n",
              "          const element = document.querySelector('#df-27311970-a635-4381-8c95-7175bc119824');\n",
              "          const dataTable =\n",
              "            await google.colab.kernel.invokeFunction('convertToInteractive',\n",
              "                                                     [key], {});\n",
              "          if (!dataTable) return;\n",
              "\n",
              "          const docLinkHtml = 'Like what you see? Visit the ' +\n",
              "            '<a target=\"_blank\" href=https://colab.research.google.com/notebooks/data_table.ipynb>data table notebook</a>'\n",
              "            + ' to learn more about interactive tables.';\n",
              "          element.innerHTML = '';\n",
              "          dataTable['output_type'] = 'display_data';\n",
              "          await google.colab.output.renderOutput(dataTable, element);\n",
              "          const docLink = document.createElement('div');\n",
              "          docLink.innerHTML = docLinkHtml;\n",
              "          element.appendChild(docLink);\n",
              "        }\n",
              "      </script>\n",
              "    </div>\n",
              "  </div>\n",
              "  "
            ],
            "text/plain": [
              "                                         Transcription  Truthful\n",
              "0    My best friend is a really nice person. Um. Sh...         1\n",
              "1    She’s actually really two faced and not fun to...         0\n",
              "2    So this specific person is actually just a rea...         1\n",
              "3    This person is actually a really kind person. ...         0\n",
              "4    My roommate is a really good person. She’s ver...         0\n",
              "..                                                 ...       ...\n",
              "315  He’s a really good guy. Uh. He’s always cleani...         1\n",
              "316  My roommate is a great guy. There is many grea...         0\n",
              "317  My roommate is insufferable. He is, uh, comple...         0\n",
              "318  My cousin is a terrible person. She makes me r...         0\n",
              "319  I have a cousin who can literally make me smil...         1\n",
              "\n",
              "[320 rows x 2 columns]"
            ]
          },
          "execution_count": 7,
          "metadata": {},
          "output_type": "execute_result"
        }
      ],
      "source": [
        "df = pd.read_csv(\"Miami_Dataset2.0.csv\",encoding='cp1252')\n",
        "df"
      ]
    },
    {
      "cell_type": "code",
      "execution_count": null,
      "metadata": {
        "colab": {
          "base_uri": "https://localhost:8080/"
        },
        "id": "n_nSzW2KgZHe",
        "outputId": "f412854d-46ac-488e-f301-18e81857e457"
      },
      "outputs": [
        {
          "name": "stdout",
          "output_type": "stream",
          "text": [
            "[nltk_data] Downloading package stopwords to /root/nltk_data...\n",
            "[nltk_data]   Unzipping corpora/stopwords.zip.\n"
          ]
        },
        {
          "data": {
            "text/plain": [
              "True"
            ]
          },
          "execution_count": 8,
          "metadata": {},
          "output_type": "execute_result"
        }
      ],
      "source": [
        "from nltk.corpus import stopwords\n",
        "from nltk.tokenize import word_tokenize\n",
        "import nltk\n",
        "nltk.download('stopwords')"
      ]
    },
    {
      "cell_type": "code",
      "execution_count": null,
      "metadata": {
        "colab": {
          "base_uri": "https://localhost:8080/"
        },
        "id": "o7RRsNVagajM",
        "outputId": "a499201c-4d65-46e4-fa55-8cfe5541956a"
      },
      "outputs": [
        {
          "data": {
            "text/plain": [
              "{'a',\n",
              " 'about',\n",
              " 'above',\n",
              " 'after',\n",
              " 'again',\n",
              " 'against',\n",
              " 'ain',\n",
              " 'all',\n",
              " 'am',\n",
              " 'an',\n",
              " 'and',\n",
              " 'any',\n",
              " 'are',\n",
              " 'aren',\n",
              " \"aren't\",\n",
              " 'as',\n",
              " 'at',\n",
              " 'be',\n",
              " 'because',\n",
              " 'been',\n",
              " 'before',\n",
              " 'being',\n",
              " 'below',\n",
              " 'between',\n",
              " 'both',\n",
              " 'but',\n",
              " 'by',\n",
              " 'can',\n",
              " 'couldn',\n",
              " \"couldn't\",\n",
              " 'd',\n",
              " 'did',\n",
              " 'didn',\n",
              " \"didn't\",\n",
              " 'do',\n",
              " 'does',\n",
              " 'doesn',\n",
              " \"doesn't\",\n",
              " 'doing',\n",
              " 'don',\n",
              " \"don't\",\n",
              " 'down',\n",
              " 'during',\n",
              " 'each',\n",
              " 'few',\n",
              " 'for',\n",
              " 'from',\n",
              " 'further',\n",
              " 'had',\n",
              " 'hadn',\n",
              " \"hadn't\",\n",
              " 'has',\n",
              " 'hasn',\n",
              " \"hasn't\",\n",
              " 'have',\n",
              " 'haven',\n",
              " \"haven't\",\n",
              " 'having',\n",
              " 'he',\n",
              " 'her',\n",
              " 'here',\n",
              " 'hers',\n",
              " 'herself',\n",
              " 'him',\n",
              " 'himself',\n",
              " 'his',\n",
              " 'how',\n",
              " 'i',\n",
              " 'if',\n",
              " 'in',\n",
              " 'into',\n",
              " 'is',\n",
              " 'isn',\n",
              " \"isn't\",\n",
              " 'it',\n",
              " \"it's\",\n",
              " 'its',\n",
              " 'itself',\n",
              " 'just',\n",
              " 'll',\n",
              " 'm',\n",
              " 'ma',\n",
              " 'me',\n",
              " 'mightn',\n",
              " \"mightn't\",\n",
              " 'more',\n",
              " 'most',\n",
              " 'mustn',\n",
              " \"mustn't\",\n",
              " 'my',\n",
              " 'myself',\n",
              " 'needn',\n",
              " \"needn't\",\n",
              " 'no',\n",
              " 'nor',\n",
              " 'not',\n",
              " 'now',\n",
              " 'o',\n",
              " 'of',\n",
              " 'off',\n",
              " 'on',\n",
              " 'once',\n",
              " 'only',\n",
              " 'or',\n",
              " 'other',\n",
              " 'our',\n",
              " 'ours',\n",
              " 'ourselves',\n",
              " 'out',\n",
              " 'over',\n",
              " 'own',\n",
              " 're',\n",
              " 's',\n",
              " 'same',\n",
              " 'shan',\n",
              " \"shan't\",\n",
              " 'she',\n",
              " \"she's\",\n",
              " 'should',\n",
              " \"should've\",\n",
              " 'shouldn',\n",
              " \"shouldn't\",\n",
              " 'so',\n",
              " 'some',\n",
              " 'such',\n",
              " 't',\n",
              " 'than',\n",
              " 'that',\n",
              " \"that'll\",\n",
              " 'the',\n",
              " 'their',\n",
              " 'theirs',\n",
              " 'them',\n",
              " 'themselves',\n",
              " 'then',\n",
              " 'there',\n",
              " 'these',\n",
              " 'they',\n",
              " 'this',\n",
              " 'those',\n",
              " 'through',\n",
              " 'to',\n",
              " 'too',\n",
              " 'under',\n",
              " 'until',\n",
              " 'up',\n",
              " 've',\n",
              " 'very',\n",
              " 'was',\n",
              " 'wasn',\n",
              " \"wasn't\",\n",
              " 'we',\n",
              " 'were',\n",
              " 'weren',\n",
              " \"weren't\",\n",
              " 'what',\n",
              " 'when',\n",
              " 'where',\n",
              " 'which',\n",
              " 'while',\n",
              " 'who',\n",
              " 'whom',\n",
              " 'why',\n",
              " 'will',\n",
              " 'with',\n",
              " 'won',\n",
              " \"won't\",\n",
              " 'wouldn',\n",
              " \"wouldn't\",\n",
              " 'y',\n",
              " 'you',\n",
              " \"you'd\",\n",
              " \"you'll\",\n",
              " \"you're\",\n",
              " \"you've\",\n",
              " 'your',\n",
              " 'yours',\n",
              " 'yourself',\n",
              " 'yourselves'}"
            ]
          },
          "execution_count": 9,
          "metadata": {},
          "output_type": "execute_result"
        }
      ],
      "source": [
        "stop_words = set(stopwords.words(\"english\"))\n",
        "stop_words\n"
      ]
    },
    {
      "cell_type": "code",
      "execution_count": null,
      "metadata": {
        "colab": {
          "base_uri": "https://localhost:8080/",
          "height": 174
        },
        "id": "QVili78igpFN",
        "outputId": "53686b91-b763-4fea-9f14-7ca52b59bb5e"
      },
      "outputs": [
        {
          "data": {
            "text/html": [
              "\n",
              "  <div id=\"df-18594a1a-1f85-4fe3-8fc2-c91aeb26ca77\">\n",
              "    <div class=\"colab-df-container\">\n",
              "      <div>\n",
              "<style scoped>\n",
              "    .dataframe tbody tr th:only-of-type {\n",
              "        vertical-align: middle;\n",
              "    }\n",
              "\n",
              "    .dataframe tbody tr th {\n",
              "        vertical-align: top;\n",
              "    }\n",
              "\n",
              "    .dataframe thead tr th {\n",
              "        text-align: left;\n",
              "    }\n",
              "\n",
              "    .dataframe thead tr:last-of-type th {\n",
              "        text-align: right;\n",
              "    }\n",
              "</style>\n",
              "<table border=\"1\" class=\"dataframe\">\n",
              "  <thead>\n",
              "    <tr>\n",
              "      <th></th>\n",
              "      <th colspan=\"4\" halign=\"left\">Transcription</th>\n",
              "    </tr>\n",
              "    <tr>\n",
              "      <th></th>\n",
              "      <th>count</th>\n",
              "      <th>unique</th>\n",
              "      <th>top</th>\n",
              "      <th>freq</th>\n",
              "    </tr>\n",
              "    <tr>\n",
              "      <th>Truthful</th>\n",
              "      <th></th>\n",
              "      <th></th>\n",
              "      <th></th>\n",
              "      <th></th>\n",
              "    </tr>\n",
              "  </thead>\n",
              "  <tbody>\n",
              "    <tr>\n",
              "      <th>0</th>\n",
              "      <td>195</td>\n",
              "      <td>195</td>\n",
              "      <td>She’s actually really two faced and not fun to...</td>\n",
              "      <td>1</td>\n",
              "    </tr>\n",
              "    <tr>\n",
              "      <th>1</th>\n",
              "      <td>125</td>\n",
              "      <td>125</td>\n",
              "      <td>My best friend is a really nice person. Um. Sh...</td>\n",
              "      <td>1</td>\n",
              "    </tr>\n",
              "  </tbody>\n",
              "</table>\n",
              "</div>\n",
              "      <button class=\"colab-df-convert\" onclick=\"convertToInteractive('df-18594a1a-1f85-4fe3-8fc2-c91aeb26ca77')\"\n",
              "              title=\"Convert this dataframe to an interactive table.\"\n",
              "              style=\"display:none;\">\n",
              "        \n",
              "  <svg xmlns=\"http://www.w3.org/2000/svg\" height=\"24px\"viewBox=\"0 0 24 24\"\n",
              "       width=\"24px\">\n",
              "    <path d=\"M0 0h24v24H0V0z\" fill=\"none\"/>\n",
              "    <path d=\"M18.56 5.44l.94 2.06.94-2.06 2.06-.94-2.06-.94-.94-2.06-.94 2.06-2.06.94zm-11 1L8.5 8.5l.94-2.06 2.06-.94-2.06-.94L8.5 2.5l-.94 2.06-2.06.94zm10 10l.94 2.06.94-2.06 2.06-.94-2.06-.94-.94-2.06-.94 2.06-2.06.94z\"/><path d=\"M17.41 7.96l-1.37-1.37c-.4-.4-.92-.59-1.43-.59-.52 0-1.04.2-1.43.59L10.3 9.45l-7.72 7.72c-.78.78-.78 2.05 0 2.83L4 21.41c.39.39.9.59 1.41.59.51 0 1.02-.2 1.41-.59l7.78-7.78 2.81-2.81c.8-.78.8-2.07 0-2.86zM5.41 20L4 18.59l7.72-7.72 1.47 1.35L5.41 20z\"/>\n",
              "  </svg>\n",
              "      </button>\n",
              "      \n",
              "  <style>\n",
              "    .colab-df-container {\n",
              "      display:flex;\n",
              "      flex-wrap:wrap;\n",
              "      gap: 12px;\n",
              "    }\n",
              "\n",
              "    .colab-df-convert {\n",
              "      background-color: #E8F0FE;\n",
              "      border: none;\n",
              "      border-radius: 50%;\n",
              "      cursor: pointer;\n",
              "      display: none;\n",
              "      fill: #1967D2;\n",
              "      height: 32px;\n",
              "      padding: 0 0 0 0;\n",
              "      width: 32px;\n",
              "    }\n",
              "\n",
              "    .colab-df-convert:hover {\n",
              "      background-color: #E2EBFA;\n",
              "      box-shadow: 0px 1px 2px rgba(60, 64, 67, 0.3), 0px 1px 3px 1px rgba(60, 64, 67, 0.15);\n",
              "      fill: #174EA6;\n",
              "    }\n",
              "\n",
              "    [theme=dark] .colab-df-convert {\n",
              "      background-color: #3B4455;\n",
              "      fill: #D2E3FC;\n",
              "    }\n",
              "\n",
              "    [theme=dark] .colab-df-convert:hover {\n",
              "      background-color: #434B5C;\n",
              "      box-shadow: 0px 1px 3px 1px rgba(0, 0, 0, 0.15);\n",
              "      filter: drop-shadow(0px 1px 2px rgba(0, 0, 0, 0.3));\n",
              "      fill: #FFFFFF;\n",
              "    }\n",
              "  </style>\n",
              "\n",
              "      <script>\n",
              "        const buttonEl =\n",
              "          document.querySelector('#df-18594a1a-1f85-4fe3-8fc2-c91aeb26ca77 button.colab-df-convert');\n",
              "        buttonEl.style.display =\n",
              "          google.colab.kernel.accessAllowed ? 'block' : 'none';\n",
              "\n",
              "        async function convertToInteractive(key) {\n",
              "          const element = document.querySelector('#df-18594a1a-1f85-4fe3-8fc2-c91aeb26ca77');\n",
              "          const dataTable =\n",
              "            await google.colab.kernel.invokeFunction('convertToInteractive',\n",
              "                                                     [key], {});\n",
              "          if (!dataTable) return;\n",
              "\n",
              "          const docLinkHtml = 'Like what you see? Visit the ' +\n",
              "            '<a target=\"_blank\" href=https://colab.research.google.com/notebooks/data_table.ipynb>data table notebook</a>'\n",
              "            + ' to learn more about interactive tables.';\n",
              "          element.innerHTML = '';\n",
              "          dataTable['output_type'] = 'display_data';\n",
              "          await google.colab.output.renderOutput(dataTable, element);\n",
              "          const docLink = document.createElement('div');\n",
              "          docLink.innerHTML = docLinkHtml;\n",
              "          element.appendChild(docLink);\n",
              "        }\n",
              "      </script>\n",
              "    </div>\n",
              "  </div>\n",
              "  "
            ],
            "text/plain": [
              "         Transcription         \\\n",
              "                 count unique   \n",
              "Truthful                        \n",
              "0                  195    195   \n",
              "1                  125    125   \n",
              "\n",
              "                                                                  \n",
              "                                                        top freq  \n",
              "Truthful                                                          \n",
              "0         She’s actually really two faced and not fun to...    1  \n",
              "1         My best friend is a really nice person. Um. Sh...    1  "
            ]
          },
          "execution_count": 10,
          "metadata": {},
          "output_type": "execute_result"
        }
      ],
      "source": [
        "df.groupby('Truthful').describe()"
      ]
    },
    {
      "cell_type": "code",
      "execution_count": null,
      "metadata": {
        "id": "nYSkRxU4yH4b"
      },
      "outputs": [],
      "source": [
        "Statements = []\n",
        "Statements= list(df['Transcription'])\n"
      ]
    },
    {
      "cell_type": "code",
      "execution_count": null,
      "metadata": {
        "id": "kv9bp7t_19D6"
      },
      "outputs": [],
      "source": [
        "y= df['Truthful']"
      ]
    },
    {
      "cell_type": "code",
      "execution_count": null,
      "metadata": {
        "colab": {
          "base_uri": "https://localhost:8080/"
        },
        "id": "Q2qDamQp6s-X",
        "outputId": "216be4fc-bc29-4e2c-f715-372a34618e12"
      },
      "outputs": [
        {
          "name": "stdout",
          "output_type": "stream",
          "text": [
            "She is so rude to everybody: students, teachers, friends, siblings, parents. It doesn’t matter who it is. She is mean to them. Because that’s just how she is. She disregards anything everyone tells her even if they’re trying to help her. She doesn’t care. She just wants to do everything her way because her way is the right way. Um. She always tries to take advantage of people. She uses people all the time for her own game and I don’t like that at all.\n"
          ]
        }
      ],
      "source": [
        "print(Statements[10])"
      ]
    },
    {
      "cell_type": "code",
      "execution_count": null,
      "metadata": {
        "colab": {
          "base_uri": "https://localhost:8080/"
        },
        "id": "JlPTnRTc7cFT",
        "outputId": "f5c4f3e5-b6e2-4ed7-8067-6955ed97213a"
      },
      "outputs": [
        {
          "name": "stdout",
          "output_type": "stream",
          "text": [
            "1\n"
          ]
        }
      ],
      "source": [
        "print(y[10])"
      ]
    },
    {
      "cell_type": "code",
      "execution_count": null,
      "metadata": {
        "id": "suPguL_5wIfc"
      },
      "outputs": [],
      "source": [
        "BertTokenizer = bert.bert_tokenization.FullTokenizer\n",
        "bert_layer = hub.KerasLayer(\"https://tfhub.dev/tensorflow/bert_en_uncased_L-12_H-768_A-12/1\",\n",
        "                            trainable=False)\n",
        "vocabulary_file = bert_layer.resolved_object.vocab_file.asset_path.numpy()\n",
        "to_lower_case = bert_layer.resolved_object.do_lower_case.numpy()\n",
        "tokenizer = BertTokenizer(vocabulary_file, to_lower_case)"
      ]
    },
    {
      "cell_type": "code",
      "execution_count": null,
      "metadata": {
        "colab": {
          "base_uri": "https://localhost:8080/"
        },
        "id": "kRsxAUwpwQr0",
        "outputId": "1321d637-36df-4c59-e372-ff81794cecfa"
      },
      "outputs": [
        {
          "data": {
            "text/plain": [
              "['don', \"'\", 't', 'be', 'so', 'judgment', '##al']"
            ]
          },
          "execution_count": 16,
          "metadata": {},
          "output_type": "execute_result"
        }
      ],
      "source": [
        "tokenizer.tokenize(\"don't be so judgmental\")"
      ]
    },
    {
      "cell_type": "code",
      "execution_count": null,
      "metadata": {
        "id": "XFhFY9JvwaQe"
      },
      "outputs": [],
      "source": [
        "def tokenize_statements(text_statements):\n",
        "    return tokenizer.convert_tokens_to_ids(tokenizer.tokenize(text_statements))"
      ]
    },
    {
      "cell_type": "code",
      "execution_count": null,
      "metadata": {
        "id": "bG8CCdKgwtWj"
      },
      "outputs": [],
      "source": [
        "tokenized_statements = [tokenize_statements(Statement) for Statement in Statements]"
      ]
    },
    {
      "cell_type": "code",
      "execution_count": null,
      "metadata": {
        "id": "-L_tZam_guy-"
      },
      "outputs": [],
      "source": [
        "statements_with_len = [[Statement, y[i], len(Statement)]\n",
        "                 for i, Statement in enumerate(tokenized_statements)]"
      ]
    },
    {
      "cell_type": "code",
      "execution_count": null,
      "metadata": {
        "id": "v0GLVQbQ2ns7"
      },
      "outputs": [],
      "source": [
        "import random\n",
        "random.shuffle(statements_with_len)"
      ]
    },
    {
      "cell_type": "code",
      "execution_count": null,
      "metadata": {
        "id": "5VUxXIZv28ej"
      },
      "outputs": [],
      "source": [
        "statements_with_len.sort(key=lambda x: x[2])"
      ]
    },
    {
      "cell_type": "code",
      "execution_count": null,
      "metadata": {
        "id": "g4tyYO_53FH7"
      },
      "outputs": [],
      "source": [
        "sorted_statements_labels = [(statement_lab[0], statement_lab[1]) for statement_lab in statements_with_len]"
      ]
    },
    {
      "cell_type": "code",
      "execution_count": null,
      "metadata": {
        "id": "8_XhVren3SYN"
      },
      "outputs": [],
      "source": [
        "processed_dataset = tf.data.Dataset.from_generator(lambda: sorted_statements_labels, output_types=(tf.int32, tf.int32))"
      ]
    },
    {
      "cell_type": "code",
      "execution_count": null,
      "metadata": {
        "id": "SVEeqk4f3a7T"
      },
      "outputs": [],
      "source": [
        "BATCH_SIZE = 8\n",
        "batched_dataset = processed_dataset.padded_batch(BATCH_SIZE, padded_shapes=((None, ), ()))"
      ]
    },
    {
      "cell_type": "code",
      "execution_count": null,
      "metadata": {
        "id": "WEyFpJVj3v4d"
      },
      "outputs": [],
      "source": [
        "import math"
      ]
    },
    {
      "cell_type": "code",
      "execution_count": null,
      "metadata": {
        "id": "lQYKskBJ3gLa"
      },
      "outputs": [],
      "source": [
        "TOTAL_BATCHES = math.ceil(len(sorted_statements_labels) / BATCH_SIZE)\n",
        "TEST_BATCHES = TOTAL_BATCHES // 10\n",
        "test_data = batched_dataset.take(TEST_BATCHES)\n",
        "train_data = batched_dataset.skip(TEST_BATCHES)"
      ]
    },
    {
      "cell_type": "code",
      "execution_count": null,
      "metadata": {
        "id": "ZmdFGnaXSZfk"
      },
      "outputs": [],
      "source": [
        "from keras.layers import BatchNormalization\n",
        "import tensorflow as tf\n",
        "\n",
        "from tensorflow.keras.layers import LSTM"
      ]
    },
    {
      "cell_type": "code",
      "execution_count": null,
      "metadata": {
        "id": "qvpgMqaA4ygz"
      },
      "outputs": [],
      "source": [
        "class TEXT_MODEL(tf.keras.Model):\n",
        "    \n",
        "    def __init__(self,\n",
        "                 vocabulary_size,\n",
        "                 embedding_dimensions=128,\n",
        "                 cnn_filters=50,\n",
        "                 dnn_units=512,\n",
        "                 model_output_classes=2,\n",
        "                 dropout_rate=0.1,\n",
        "                 training=False,\n",
        "                 name=\"text_model\"):\n",
        "        super(TEXT_MODEL, self).__init__(name=name)\n",
        "        \n",
        "        self.embedding = layers.Embedding(vocabulary_size,\n",
        "                                          embedding_dimensions)\n",
        "        self.cnn_layer1 = layers.Conv1D(filters=cnn_filters,\n",
        "                                        kernel_size=2,\n",
        "                                        padding=\"valid\",\n",
        "                                        activation=\"relu\")\n",
        "        self.cnn_layer2 = layers.Conv1D(filters=cnn_filters,\n",
        "                                        kernel_size=3,\n",
        "                                        padding=\"valid\",\n",
        "                                        activation=\"relu\")\n",
        "        self.cnn_layer3 = layers.Conv1D(filters=cnn_filters,\n",
        "                                        kernel_size=4,\n",
        "                                        padding=\"valid\",\n",
        "                                        activation=\"relu\")\n",
        "        self.pool = layers.GlobalMaxPool1D()\n",
        "        \n",
        "        self.dense_1 = layers.Dense(units=dnn_units, activation=\"relu\")\n",
        "        self.dropout = layers.Dropout(rate=dropout_rate)\n",
        "        if model_output_classes == 2:\n",
        "            self.last_dense = layers.Dense(units=1,\n",
        "                                           activation=\"sigmoid\")\n",
        "        else:\n",
        "            self.last_dense = layers.Dense(units=model_output_classes,\n",
        "                                           activation=\"softmax\")\n",
        "    \n",
        "    def call(self, inputs, training):\n",
        "        l = self.embedding(inputs)\n",
        "        l_1 = self.cnn_layer1(l) \n",
        "        l_1 = self.pool(l_1) \n",
        "        l_2 = self.cnn_layer2(l) \n",
        "        l_2 = self.pool(l_2)\n",
        "        l_3 = self.cnn_layer3(l)\n",
        "        l_3 = self.pool(l_3) \n",
        "        \n",
        "        concatenated = tf.concat([l_1, l_2, l_3], axis=-1) # (batch_size, 3 * cnn_filters)\n",
        "        concatenated = self.dense_1(concatenated)\n",
        "        concatenated = self.dropout(concatenated, training)\n",
        "        model_output = self.last_dense(concatenated)\n",
        "        \n",
        "        return model_output"
      ]
    },
    {
      "cell_type": "code",
      "execution_count": null,
      "metadata": {
        "id": "cs4YMTvM5APC"
      },
      "outputs": [],
      "source": [
        "VOCAB_LENGTH = len(tokenizer.vocab)\n",
        "EMB_DIM = 200\n",
        "CNN_FILTERS = 100\n",
        "DNN_UNITS = 256\n",
        "OUTPUT_CLASSES = 2\n",
        "\n",
        "DROPOUT_RATE = 0.2\n",
        "\n",
        "NB_EPOCHS = 100"
      ]
    },
    {
      "cell_type": "code",
      "execution_count": null,
      "metadata": {
        "id": "R2Htjhhh5EiS"
      },
      "outputs": [],
      "source": [
        "text_model = TEXT_MODEL(vocabulary_size=VOCAB_LENGTH,\n",
        "                        embedding_dimensions=EMB_DIM,\n",
        "                        cnn_filters=CNN_FILTERS,\n",
        "                        dnn_units=DNN_UNITS,\n",
        "                        model_output_classes=OUTPUT_CLASSES,\n",
        "                        dropout_rate=DROPOUT_RATE)"
      ]
    },
    {
      "cell_type": "code",
      "execution_count": null,
      "metadata": {
        "id": "i6Tj_ihK5I86"
      },
      "outputs": [],
      "source": [
        "if OUTPUT_CLASSES == 2:\n",
        "    text_model.compile(loss=\"binary_crossentropy\",\n",
        "                       optimizer=\"adam\",\n",
        "                       metrics=[\"accuracy\"])\n",
        "else:\n",
        "    text_model.compile(loss=\"sparse_categorical_crossentropy\",\n",
        "                       optimizer=\"adam\",\n",
        "                       metrics=[\"sparse_categorical_accuracy\"])"
      ]
    },
    {
      "cell_type": "code",
      "execution_count": null,
      "metadata": {
        "colab": {
          "base_uri": "https://localhost:8080/"
        },
        "id": "Od5DNlKSU5Dl",
        "outputId": "bb7ee00c-4ede-4372-e101-2e07eb4b54b8"
      },
      "outputs": [
        {
          "name": "stdout",
          "output_type": "stream",
          "text": [
            "Requirement already satisfied: tensorflow in /usr/local/lib/python3.7/dist-packages (2.8.0)\n",
            "Requirement already satisfied: protobuf>=3.9.2 in /usr/local/lib/python3.7/dist-packages (from tensorflow) (3.17.3)\n",
            "Requirement already satisfied: numpy>=1.20 in /usr/local/lib/python3.7/dist-packages (from tensorflow) (1.21.6)\n",
            "Requirement already satisfied: flatbuffers>=1.12 in /usr/local/lib/python3.7/dist-packages (from tensorflow) (2.0)\n",
            "Requirement already satisfied: libclang>=9.0.1 in /usr/local/lib/python3.7/dist-packages (from tensorflow) (13.0.0)\n",
            "Requirement already satisfied: keras<2.9,>=2.8.0rc0 in /usr/local/lib/python3.7/dist-packages (from tensorflow) (2.8.0)\n",
            "Requirement already satisfied: setuptools in /usr/local/lib/python3.7/dist-packages (from tensorflow) (57.4.0)\n",
            "Requirement already satisfied: six>=1.12.0 in /usr/local/lib/python3.7/dist-packages (from tensorflow) (1.15.0)\n",
            "Requirement already satisfied: tf-estimator-nightly==2.8.0.dev2021122109 in /usr/local/lib/python3.7/dist-packages (from tensorflow) (2.8.0.dev2021122109)\n",
            "Requirement already satisfied: astunparse>=1.6.0 in /usr/local/lib/python3.7/dist-packages (from tensorflow) (1.6.3)\n",
            "Requirement already satisfied: gast>=0.2.1 in /usr/local/lib/python3.7/dist-packages (from tensorflow) (0.5.3)\n",
            "Requirement already satisfied: h5py>=2.9.0 in /usr/local/lib/python3.7/dist-packages (from tensorflow) (3.1.0)\n",
            "Requirement already satisfied: grpcio<2.0,>=1.24.3 in /usr/local/lib/python3.7/dist-packages (from tensorflow) (1.44.0)\n",
            "Requirement already satisfied: typing-extensions>=3.6.6 in /usr/local/lib/python3.7/dist-packages (from tensorflow) (4.2.0)\n",
            "Requirement already satisfied: google-pasta>=0.1.1 in /usr/local/lib/python3.7/dist-packages (from tensorflow) (0.2.0)\n",
            "Requirement already satisfied: opt-einsum>=2.3.2 in /usr/local/lib/python3.7/dist-packages (from tensorflow) (3.3.0)\n",
            "Requirement already satisfied: wrapt>=1.11.0 in /usr/local/lib/python3.7/dist-packages (from tensorflow) (1.14.0)\n",
            "Requirement already satisfied: tensorflow-io-gcs-filesystem>=0.23.1 in /usr/local/lib/python3.7/dist-packages (from tensorflow) (0.24.0)\n",
            "Requirement already satisfied: termcolor>=1.1.0 in /usr/local/lib/python3.7/dist-packages (from tensorflow) (1.1.0)\n",
            "Requirement already satisfied: absl-py>=0.4.0 in /usr/local/lib/python3.7/dist-packages (from tensorflow) (1.0.0)\n",
            "Requirement already satisfied: keras-preprocessing>=1.1.1 in /usr/local/lib/python3.7/dist-packages (from tensorflow) (1.1.2)\n",
            "Requirement already satisfied: tensorboard<2.9,>=2.8 in /usr/local/lib/python3.7/dist-packages (from tensorflow) (2.8.0)\n",
            "Requirement already satisfied: wheel<1.0,>=0.23.0 in /usr/local/lib/python3.7/dist-packages (from astunparse>=1.6.0->tensorflow) (0.37.1)\n",
            "Requirement already satisfied: cached-property in /usr/local/lib/python3.7/dist-packages (from h5py>=2.9.0->tensorflow) (1.5.2)\n",
            "Requirement already satisfied: werkzeug>=0.11.15 in /usr/local/lib/python3.7/dist-packages (from tensorboard<2.9,>=2.8->tensorflow) (1.0.1)\n",
            "Requirement already satisfied: requests<3,>=2.21.0 in /usr/local/lib/python3.7/dist-packages (from tensorboard<2.9,>=2.8->tensorflow) (2.23.0)\n",
            "Requirement already satisfied: tensorboard-plugin-wit>=1.6.0 in /usr/local/lib/python3.7/dist-packages (from tensorboard<2.9,>=2.8->tensorflow) (1.8.1)\n",
            "Requirement already satisfied: tensorboard-data-server<0.7.0,>=0.6.0 in /usr/local/lib/python3.7/dist-packages (from tensorboard<2.9,>=2.8->tensorflow) (0.6.1)\n",
            "Requirement already satisfied: google-auth-oauthlib<0.5,>=0.4.1 in /usr/local/lib/python3.7/dist-packages (from tensorboard<2.9,>=2.8->tensorflow) (0.4.6)\n",
            "Requirement already satisfied: markdown>=2.6.8 in /usr/local/lib/python3.7/dist-packages (from tensorboard<2.9,>=2.8->tensorflow) (3.3.6)\n",
            "Requirement already satisfied: google-auth<3,>=1.6.3 in /usr/local/lib/python3.7/dist-packages (from tensorboard<2.9,>=2.8->tensorflow) (1.35.0)\n",
            "Requirement already satisfied: pyasn1-modules>=0.2.1 in /usr/local/lib/python3.7/dist-packages (from google-auth<3,>=1.6.3->tensorboard<2.9,>=2.8->tensorflow) (0.2.8)\n",
            "Requirement already satisfied: cachetools<5.0,>=2.0.0 in /usr/local/lib/python3.7/dist-packages (from google-auth<3,>=1.6.3->tensorboard<2.9,>=2.8->tensorflow) (4.2.4)\n",
            "Requirement already satisfied: rsa<5,>=3.1.4 in /usr/local/lib/python3.7/dist-packages (from google-auth<3,>=1.6.3->tensorboard<2.9,>=2.8->tensorflow) (4.8)\n",
            "Requirement already satisfied: requests-oauthlib>=0.7.0 in /usr/local/lib/python3.7/dist-packages (from google-auth-oauthlib<0.5,>=0.4.1->tensorboard<2.9,>=2.8->tensorflow) (1.3.1)\n",
            "Requirement already satisfied: importlib-metadata>=4.4 in /usr/local/lib/python3.7/dist-packages (from markdown>=2.6.8->tensorboard<2.9,>=2.8->tensorflow) (4.11.3)\n",
            "Requirement already satisfied: zipp>=0.5 in /usr/local/lib/python3.7/dist-packages (from importlib-metadata>=4.4->markdown>=2.6.8->tensorboard<2.9,>=2.8->tensorflow) (3.8.0)\n",
            "Requirement already satisfied: pyasn1<0.5.0,>=0.4.6 in /usr/local/lib/python3.7/dist-packages (from pyasn1-modules>=0.2.1->google-auth<3,>=1.6.3->tensorboard<2.9,>=2.8->tensorflow) (0.4.8)\n",
            "Requirement already satisfied: idna<3,>=2.5 in /usr/local/lib/python3.7/dist-packages (from requests<3,>=2.21.0->tensorboard<2.9,>=2.8->tensorflow) (2.10)\n",
            "Requirement already satisfied: urllib3!=1.25.0,!=1.25.1,<1.26,>=1.21.1 in /usr/local/lib/python3.7/dist-packages (from requests<3,>=2.21.0->tensorboard<2.9,>=2.8->tensorflow) (1.24.3)\n",
            "Requirement already satisfied: chardet<4,>=3.0.2 in /usr/local/lib/python3.7/dist-packages (from requests<3,>=2.21.0->tensorboard<2.9,>=2.8->tensorflow) (3.0.4)\n",
            "Requirement already satisfied: certifi>=2017.4.17 in /usr/local/lib/python3.7/dist-packages (from requests<3,>=2.21.0->tensorboard<2.9,>=2.8->tensorflow) (2021.10.8)\n",
            "Requirement already satisfied: oauthlib>=3.0.0 in /usr/local/lib/python3.7/dist-packages (from requests-oauthlib>=0.7.0->google-auth-oauthlib<0.5,>=0.4.1->tensorboard<2.9,>=2.8->tensorflow) (3.2.0)\n",
            "Requirement already satisfied: numpy in /usr/local/lib/python3.7/dist-packages (1.21.6)\n"
          ]
        }
      ],
      "source": [
        "!pip install --upgrade tensorflow\n",
        "!pip install --upgrade numpy\n",
        "from tensorflow import keras \n",
        "from tensorflow.keras.models import load_model\n",
        "from tensorflow.keras import models\n",
        "from tensorflow.keras import backend\n",
        "from tensorflow.keras import metrics as metrics_module"
      ]
    },
    {
      "cell_type": "code",
      "execution_count": null,
      "metadata": {
        "colab": {
          "background_save": true,
          "base_uri": "https://localhost:8080/"
        },
        "id": "2Ytk6rBP5Nms",
        "outputId": "85e8026c-168a-4e23-dd76-7b5331b46326"
      },
      "outputs": [
        {
          "name": "stdout",
          "output_type": "stream",
          "text": [
            "Epoch 1/100\n",
            "36/36 [==============================] - 9s 172ms/step - loss: 0.6990 - accuracy: 0.5660\n",
            "Epoch 2/100\n",
            "36/36 [==============================] - 5s 139ms/step - loss: 0.6739 - accuracy: 0.5486\n",
            "Epoch 3/100\n",
            "36/36 [==============================] - 4s 103ms/step - loss: 0.5847 - accuracy: 0.7396\n",
            "Epoch 4/100\n",
            "36/36 [==============================] - 4s 104ms/step - loss: 0.3840 - accuracy: 0.8854\n",
            "Epoch 5/100\n",
            "36/36 [==============================] - 4s 104ms/step - loss: 0.1175 - accuracy: 1.0000\n",
            "Epoch 6/100\n",
            "36/36 [==============================] - 4s 104ms/step - loss: 0.0226 - accuracy: 1.0000\n",
            "Epoch 7/100\n",
            "36/36 [==============================] - 4s 103ms/step - loss: 0.0104 - accuracy: 1.0000\n",
            "Epoch 8/100\n",
            "36/36 [==============================] - 4s 106ms/step - loss: 0.0034 - accuracy: 1.0000\n",
            "Epoch 9/100\n",
            "36/36 [==============================] - 4s 106ms/step - loss: 0.0016 - accuracy: 1.0000\n",
            "Epoch 10/100\n",
            "36/36 [==============================] - 4s 105ms/step - loss: 0.0010 - accuracy: 1.0000\n",
            "Epoch 11/100\n",
            "36/36 [==============================] - 4s 105ms/step - loss: 6.2029e-04 - accuracy: 1.0000\n",
            "Epoch 12/100\n",
            "36/36 [==============================] - 4s 105ms/step - loss: 4.5743e-04 - accuracy: 1.0000\n",
            "Epoch 13/100\n",
            "36/36 [==============================] - 4s 105ms/step - loss: 3.6081e-04 - accuracy: 1.0000\n",
            "Epoch 14/100\n",
            "36/36 [==============================] - 4s 105ms/step - loss: 2.8891e-04 - accuracy: 1.0000\n",
            "Epoch 15/100\n",
            "36/36 [==============================] - 4s 105ms/step - loss: 2.5400e-04 - accuracy: 1.0000\n",
            "Epoch 16/100\n",
            "36/36 [==============================] - 4s 105ms/step - loss: 2.0321e-04 - accuracy: 1.0000\n",
            "Epoch 17/100\n",
            "36/36 [==============================] - 4s 105ms/step - loss: 1.3087e-04 - accuracy: 1.0000\n",
            "Epoch 18/100\n",
            "36/36 [==============================] - 4s 105ms/step - loss: 1.7393e-04 - accuracy: 1.0000\n",
            "Epoch 19/100\n",
            "36/36 [==============================] - 4s 105ms/step - loss: 1.5977e-04 - accuracy: 1.0000\n",
            "Epoch 20/100\n",
            "36/36 [==============================] - 4s 104ms/step - loss: 1.4656e-04 - accuracy: 1.0000\n",
            "Epoch 21/100\n",
            "36/36 [==============================] - 4s 105ms/step - loss: 1.2922e-04 - accuracy: 1.0000\n",
            "Epoch 22/100\n",
            "36/36 [==============================] - 4s 106ms/step - loss: 8.5368e-05 - accuracy: 1.0000\n",
            "Epoch 23/100\n",
            "36/36 [==============================] - 4s 105ms/step - loss: 1.0240e-04 - accuracy: 1.0000\n",
            "Epoch 24/100\n",
            "36/36 [==============================] - 4s 106ms/step - loss: 7.8808e-05 - accuracy: 1.0000\n",
            "Epoch 25/100\n",
            "36/36 [==============================] - 4s 106ms/step - loss: 7.5242e-05 - accuracy: 1.0000\n",
            "Epoch 26/100\n",
            "36/36 [==============================] - 4s 106ms/step - loss: 5.6464e-05 - accuracy: 1.0000\n",
            "Epoch 27/100\n",
            "36/36 [==============================] - 4s 106ms/step - loss: 6.7311e-05 - accuracy: 1.0000\n",
            "Epoch 28/100\n",
            "36/36 [==============================] - 4s 106ms/step - loss: 6.0711e-05 - accuracy: 1.0000\n",
            "Epoch 29/100\n",
            "36/36 [==============================] - 4s 105ms/step - loss: 6.4639e-05 - accuracy: 1.0000\n",
            "Epoch 30/100\n",
            "36/36 [==============================] - 4s 105ms/step - loss: 6.7683e-05 - accuracy: 1.0000\n",
            "Epoch 31/100\n",
            "36/36 [==============================] - 4s 105ms/step - loss: 4.5571e-05 - accuracy: 1.0000\n",
            "Epoch 32/100\n",
            "36/36 [==============================] - 4s 105ms/step - loss: 5.4363e-05 - accuracy: 1.0000\n",
            "Epoch 33/100\n",
            "36/36 [==============================] - 4s 105ms/step - loss: 3.6438e-05 - accuracy: 1.0000\n",
            "Epoch 34/100\n",
            "36/36 [==============================] - 4s 105ms/step - loss: 5.2957e-05 - accuracy: 1.0000\n",
            "Epoch 35/100\n",
            "36/36 [==============================] - 4s 106ms/step - loss: 5.0874e-05 - accuracy: 1.0000\n",
            "Epoch 36/100\n",
            "36/36 [==============================] - 4s 106ms/step - loss: 3.6838e-05 - accuracy: 1.0000\n",
            "Epoch 37/100\n",
            "36/36 [==============================] - 4s 106ms/step - loss: 2.6778e-05 - accuracy: 1.0000\n",
            "Epoch 38/100\n",
            "36/36 [==============================] - 4s 106ms/step - loss: 4.0866e-05 - accuracy: 1.0000\n",
            "Epoch 39/100\n",
            "36/36 [==============================] - 4s 106ms/step - loss: 4.3667e-05 - accuracy: 1.0000\n",
            "Epoch 40/100\n",
            "36/36 [==============================] - 4s 105ms/step - loss: 3.3379e-05 - accuracy: 1.0000\n",
            "Epoch 41/100\n",
            "36/36 [==============================] - 4s 107ms/step - loss: 2.8114e-05 - accuracy: 1.0000\n",
            "Epoch 42/100\n",
            "36/36 [==============================] - 4s 105ms/step - loss: 2.7013e-05 - accuracy: 1.0000\n",
            "Epoch 43/100\n",
            "36/36 [==============================] - 4s 106ms/step - loss: 3.3265e-05 - accuracy: 1.0000\n",
            "Epoch 44/100\n",
            "36/36 [==============================] - 4s 105ms/step - loss: 2.3010e-05 - accuracy: 1.0000\n",
            "Epoch 45/100\n",
            "36/36 [==============================] - 4s 105ms/step - loss: 2.1934e-05 - accuracy: 1.0000\n",
            "Epoch 46/100\n",
            "36/36 [==============================] - 4s 106ms/step - loss: 3.5057e-05 - accuracy: 1.0000\n",
            "Epoch 47/100\n",
            "36/36 [==============================] - 4s 106ms/step - loss: 2.2707e-05 - accuracy: 1.0000\n",
            "Epoch 48/100\n",
            "36/36 [==============================] - 4s 106ms/step - loss: 2.1566e-05 - accuracy: 1.0000\n",
            "Epoch 49/100\n",
            "36/36 [==============================] - 4s 105ms/step - loss: 2.4113e-05 - accuracy: 1.0000\n",
            "Epoch 50/100\n",
            "36/36 [==============================] - 4s 106ms/step - loss: 2.0586e-05 - accuracy: 1.0000\n",
            "Epoch 51/100\n",
            "36/36 [==============================] - 4s 107ms/step - loss: 1.7146e-05 - accuracy: 1.0000\n",
            "Epoch 52/100\n",
            "36/36 [==============================] - 4s 105ms/step - loss: 1.8914e-05 - accuracy: 1.0000\n",
            "Epoch 53/100\n",
            "36/36 [==============================] - 4s 107ms/step - loss: 1.3103e-05 - accuracy: 1.0000\n",
            "Epoch 54/100\n",
            "36/36 [==============================] - 4s 105ms/step - loss: 2.5083e-05 - accuracy: 1.0000\n",
            "Epoch 55/100\n",
            "36/36 [==============================] - 5s 131ms/step - loss: 2.1646e-05 - accuracy: 1.0000\n",
            "Epoch 56/100\n",
            "36/36 [==============================] - 5s 134ms/step - loss: 2.0053e-05 - accuracy: 1.0000\n",
            "Epoch 57/100\n",
            "36/36 [==============================] - 4s 106ms/step - loss: 1.5735e-05 - accuracy: 1.0000\n",
            "Epoch 58/100\n",
            "36/36 [==============================] - 4s 106ms/step - loss: 2.1589e-05 - accuracy: 1.0000\n",
            "Epoch 59/100\n",
            "36/36 [==============================] - 4s 106ms/step - loss: 1.2897e-05 - accuracy: 1.0000\n",
            "Epoch 60/100\n",
            "36/36 [==============================] - 4s 106ms/step - loss: 1.3563e-05 - accuracy: 1.0000\n",
            "Epoch 61/100\n",
            "36/36 [==============================] - 4s 106ms/step - loss: 1.3649e-05 - accuracy: 1.0000\n",
            "Epoch 62/100\n",
            "36/36 [==============================] - 4s 107ms/step - loss: 1.1725e-05 - accuracy: 1.0000\n",
            "Epoch 63/100\n",
            "36/36 [==============================] - 4s 105ms/step - loss: 1.0899e-05 - accuracy: 1.0000\n",
            "Epoch 64/100\n",
            "36/36 [==============================] - 4s 105ms/step - loss: 1.1448e-05 - accuracy: 1.0000\n",
            "Epoch 65/100\n",
            "36/36 [==============================] - 4s 106ms/step - loss: 8.7380e-06 - accuracy: 1.0000\n",
            "Epoch 66/100\n",
            "36/36 [==============================] - 4s 106ms/step - loss: 1.2388e-05 - accuracy: 1.0000\n",
            "Epoch 67/100\n",
            "36/36 [==============================] - 4s 105ms/step - loss: 1.2226e-05 - accuracy: 1.0000\n",
            "Epoch 68/100\n",
            "36/36 [==============================] - 4s 106ms/step - loss: 1.1013e-05 - accuracy: 1.0000\n",
            "Epoch 69/100\n",
            "36/36 [==============================] - 4s 107ms/step - loss: 8.3985e-06 - accuracy: 1.0000\n",
            "Epoch 70/100\n",
            "36/36 [==============================] - 4s 106ms/step - loss: 1.2099e-05 - accuracy: 1.0000\n",
            "Epoch 71/100\n",
            "36/36 [==============================] - 4s 107ms/step - loss: 8.3055e-06 - accuracy: 1.0000\n",
            "Epoch 72/100\n",
            "36/36 [==============================] - 4s 106ms/step - loss: 2.5027e-05 - accuracy: 1.0000\n",
            "Epoch 73/100\n",
            "36/36 [==============================] - 4s 105ms/step - loss: 1.0932e-05 - accuracy: 1.0000\n",
            "Epoch 74/100\n",
            "36/36 [==============================] - 4s 105ms/step - loss: 1.0254e-05 - accuracy: 1.0000\n",
            "Epoch 75/100\n",
            "36/36 [==============================] - 4s 106ms/step - loss: 9.4854e-06 - accuracy: 1.0000\n",
            "Epoch 76/100\n",
            "36/36 [==============================] - 4s 106ms/step - loss: 6.1482e-06 - accuracy: 1.0000\n",
            "Epoch 77/100\n",
            "36/36 [==============================] - 4s 105ms/step - loss: 1.0336e-05 - accuracy: 1.0000\n",
            "Epoch 78/100\n",
            "36/36 [==============================] - 4s 106ms/step - loss: 9.7698e-06 - accuracy: 1.0000\n",
            "Epoch 79/100\n",
            "36/36 [==============================] - 4s 106ms/step - loss: 5.5553e-06 - accuracy: 1.0000\n",
            "Epoch 80/100\n",
            "36/36 [==============================] - 4s 106ms/step - loss: 8.9784e-06 - accuracy: 1.0000\n",
            "Epoch 81/100\n",
            "36/36 [==============================] - 4s 107ms/step - loss: 1.0014e-05 - accuracy: 1.0000\n",
            "Epoch 82/100\n",
            "36/36 [==============================] - 4s 107ms/step - loss: 7.8733e-06 - accuracy: 1.0000\n",
            "Epoch 83/100\n",
            "36/36 [==============================] - 4s 107ms/step - loss: 1.4373e-05 - accuracy: 1.0000\n",
            "Epoch 84/100\n",
            "36/36 [==============================] - 4s 106ms/step - loss: 5.9355e-06 - accuracy: 1.0000\n",
            "Epoch 85/100\n",
            "36/36 [==============================] - 4s 106ms/step - loss: 6.6885e-06 - accuracy: 1.0000\n",
            "Epoch 86/100\n",
            "36/36 [==============================] - 4s 105ms/step - loss: 1.0039e-05 - accuracy: 1.0000\n",
            "Epoch 87/100\n",
            "36/36 [==============================] - 4s 107ms/step - loss: 5.8859e-06 - accuracy: 1.0000\n",
            "Epoch 88/100\n",
            "36/36 [==============================] - 4s 107ms/step - loss: 1.0842e-05 - accuracy: 1.0000\n",
            "Epoch 89/100\n",
            "36/36 [==============================] - 4s 106ms/step - loss: 5.7372e-06 - accuracy: 1.0000\n",
            "Epoch 90/100\n",
            "36/36 [==============================] - 4s 106ms/step - loss: 4.9542e-06 - accuracy: 1.0000\n",
            "Epoch 91/100\n",
            "36/36 [==============================] - 4s 107ms/step - loss: 8.1604e-06 - accuracy: 1.0000\n",
            "Epoch 92/100\n",
            "36/36 [==============================] - 4s 108ms/step - loss: 5.8578e-06 - accuracy: 1.0000\n",
            "Epoch 93/100\n",
            "36/36 [==============================] - 4s 107ms/step - loss: 4.9039e-06 - accuracy: 1.0000\n",
            "Epoch 94/100\n",
            "36/36 [==============================] - 4s 107ms/step - loss: 6.4769e-06 - accuracy: 1.0000\n",
            "Epoch 95/100\n",
            "36/36 [==============================] - 4s 106ms/step - loss: 8.9881e-06 - accuracy: 1.0000\n",
            "Epoch 96/100\n",
            "36/36 [==============================] - 4s 108ms/step - loss: 4.3187e-06 - accuracy: 1.0000\n",
            "Epoch 97/100\n",
            "36/36 [==============================] - 4s 107ms/step - loss: 5.5015e-06 - accuracy: 1.0000\n",
            "Epoch 98/100\n",
            "36/36 [==============================] - 4s 106ms/step - loss: 6.5274e-06 - accuracy: 1.0000\n",
            "Epoch 99/100\n",
            "36/36 [==============================] - 4s 106ms/step - loss: 3.4391e-06 - accuracy: 1.0000\n",
            "Epoch 100/100\n",
            "36/36 [==============================] - 4s 106ms/step - loss: 9.6585e-06 - accuracy: 1.0000\n"
          ]
        },
        {
          "data": {
            "text/plain": [
              "<keras.callbacks.History at 0x7fd3b290b4d0>"
            ]
          },
          "execution_count": null,
          "metadata": {},
          "output_type": "execute_result"
        }
      ],
      "source": [
        "text_model.fit(train_data, epochs=NB_EPOCHS)"
      ]
    },
    {
      "cell_type": "code",
      "execution_count": null,
      "metadata": {
        "colab": {
          "base_uri": "https://localhost:8080/"
        },
        "id": "9nY4WTFmrfA6",
        "outputId": "efe8c169-ccef-4db6-8ffc-2accea3af877"
      },
      "outputs": [
        {
          "name": "stdout",
          "output_type": "stream",
          "text": [
            "4/4 [==============================] - 1s 220ms/step - loss: 2.2658 - accuracy: 0.5000\n",
            "[2.2658376693725586, 0.5]\n"
          ]
        }
      ],
      "source": [
        "mresults = text_model.evaluate(test_data)\n",
        "print(results)"
      ]
    }
  ],
  "metadata": {
    "accelerator": "GPU",
    "colab": {
      "collapsed_sections": [],
      "name": "BERT_lstm_Miami.ipynb",
      "provenance": []
    },
    "kernelspec": {
      "display_name": "Python 3",
      "name": "python3"
    },
    "language_info": {
      "name": "python"
    }
  },
  "nbformat": 4,
  "nbformat_minor": 0
}