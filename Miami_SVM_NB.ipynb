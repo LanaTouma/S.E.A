{
  "cells": [
    {
      "cell_type": "code",
      "execution_count": null,
      "metadata": {
        "id": "de7276e6"
      },
      "outputs": [],
      "source": [
        "import pandas as pd\n",
        "import numpy as np\n",
        "#for text pre-processing\n",
        "import re, string\n",
        "import nltk\n",
        "from nltk.tokenize import word_tokenize\n",
        "from nltk.corpus import stopwords\n",
        "from nltk.tokenize import word_tokenize\n",
        "from nltk.stem import SnowballStemmer\n",
        "from nltk.corpus import wordnet\n",
        "from nltk.stem import WordNetLemmatizer\n",
        "#for model-building\n",
        "from sklearn.model_selection import train_test_split\n",
        "from sklearn.linear_model import LogisticRegression\n",
        "from sklearn.naive_bayes import MultinomialNB\n",
        "from sklearn.metrics import classification_report, f1_score, accuracy_score, confusion_matrix\n",
        "from sklearn.metrics import roc_curve, auc, roc_auc_score\n",
        "# bag of words\n",
        "from sklearn.feature_extraction.text import TfidfVectorizer\n",
        "from sklearn.feature_extraction.text import CountVectorizer\n",
        "#for word embedding\n",
        "import gensim\n",
        "from gensim.models import Word2Vec"
      ],
      "id": "de7276e6"
    },
    {
      "cell_type": "code",
      "execution_count": null,
      "metadata": {
        "colab": {
          "base_uri": "https://localhost:8080/",
          "height": 424
        },
        "id": "a80ba5a2",
        "outputId": "b9fef651-0ec5-46c0-e435-137bb7342195"
      },
      "outputs": [
        {
          "output_type": "execute_result",
          "data": {
            "text/plain": [
              "     Accuracy  TruthProp                                      Transcription  \\\n",
              "0        0.77       0.77  My best friend is a really nice person. Um. Sh...   \n",
              "1        0.40       0.60  She’s actually really two faced and not fun to...   \n",
              "2        0.77       0.77  So this specific person is actually just a rea...   \n",
              "3        0.58       0.42  This person is actually a really kind person. ...   \n",
              "4        0.59       0.59  My roommate is a really good person. She’s ver...   \n",
              "..        ...        ...                                                ...   \n",
              "315      0.50       0.50  He’s a really good guy. Uh. He’s always cleani...   \n",
              "316      0.47       0.47  My roommate is a great guy. There is many grea...   \n",
              "317      0.45       0.55  My roommate is insufferable. He is, uh, comple...   \n",
              "318      0.50       0.50  My cousin is a terrible person. She makes me r...   \n",
              "319      0.18       0.82  I have a cousin who can literally make me smil...   \n",
              "\n",
              "     Result  Truthful1  Trustworthy  Result2  Truthful  \n",
              "0    0.5929          1        0.432   1.0249         1  \n",
              "1    0.2400          0        0.375   0.6150         0  \n",
              "2    0.5929          1        0.395   0.9879         1  \n",
              "3    0.2436          0        0.405   0.6486         0  \n",
              "4    0.3481          0        0.436   0.7841         1  \n",
              "..      ...        ...          ...      ...       ...  \n",
              "315  0.2500          0        0.420   0.6700         0  \n",
              "316  0.2209          0        0.411   0.6319         0  \n",
              "317  0.2475          0        0.427   0.6745         0  \n",
              "318  0.2500          0        0.432   0.6820         0  \n",
              "319  0.1476          0        0.468   0.6156         0  \n",
              "\n",
              "[320 rows x 8 columns]"
            ],
            "text/html": [
              "\n",
              "  <div id=\"df-4e400755-a490-4682-91b1-37819e19bae6\">\n",
              "    <div class=\"colab-df-container\">\n",
              "      <div>\n",
              "<style scoped>\n",
              "    .dataframe tbody tr th:only-of-type {\n",
              "        vertical-align: middle;\n",
              "    }\n",
              "\n",
              "    .dataframe tbody tr th {\n",
              "        vertical-align: top;\n",
              "    }\n",
              "\n",
              "    .dataframe thead th {\n",
              "        text-align: right;\n",
              "    }\n",
              "</style>\n",
              "<table border=\"1\" class=\"dataframe\">\n",
              "  <thead>\n",
              "    <tr style=\"text-align: right;\">\n",
              "      <th></th>\n",
              "      <th>Accuracy</th>\n",
              "      <th>TruthProp</th>\n",
              "      <th>Transcription</th>\n",
              "      <th>Result</th>\n",
              "      <th>Truthful1</th>\n",
              "      <th>Trustworthy</th>\n",
              "      <th>Result2</th>\n",
              "      <th>Truthful</th>\n",
              "    </tr>\n",
              "  </thead>\n",
              "  <tbody>\n",
              "    <tr>\n",
              "      <th>0</th>\n",
              "      <td>0.77</td>\n",
              "      <td>0.77</td>\n",
              "      <td>My best friend is a really nice person. Um. Sh...</td>\n",
              "      <td>0.5929</td>\n",
              "      <td>1</td>\n",
              "      <td>0.432</td>\n",
              "      <td>1.0249</td>\n",
              "      <td>1</td>\n",
              "    </tr>\n",
              "    <tr>\n",
              "      <th>1</th>\n",
              "      <td>0.40</td>\n",
              "      <td>0.60</td>\n",
              "      <td>She’s actually really two faced and not fun to...</td>\n",
              "      <td>0.2400</td>\n",
              "      <td>0</td>\n",
              "      <td>0.375</td>\n",
              "      <td>0.6150</td>\n",
              "      <td>0</td>\n",
              "    </tr>\n",
              "    <tr>\n",
              "      <th>2</th>\n",
              "      <td>0.77</td>\n",
              "      <td>0.77</td>\n",
              "      <td>So this specific person is actually just a rea...</td>\n",
              "      <td>0.5929</td>\n",
              "      <td>1</td>\n",
              "      <td>0.395</td>\n",
              "      <td>0.9879</td>\n",
              "      <td>1</td>\n",
              "    </tr>\n",
              "    <tr>\n",
              "      <th>3</th>\n",
              "      <td>0.58</td>\n",
              "      <td>0.42</td>\n",
              "      <td>This person is actually a really kind person. ...</td>\n",
              "      <td>0.2436</td>\n",
              "      <td>0</td>\n",
              "      <td>0.405</td>\n",
              "      <td>0.6486</td>\n",
              "      <td>0</td>\n",
              "    </tr>\n",
              "    <tr>\n",
              "      <th>4</th>\n",
              "      <td>0.59</td>\n",
              "      <td>0.59</td>\n",
              "      <td>My roommate is a really good person. She’s ver...</td>\n",
              "      <td>0.3481</td>\n",
              "      <td>0</td>\n",
              "      <td>0.436</td>\n",
              "      <td>0.7841</td>\n",
              "      <td>1</td>\n",
              "    </tr>\n",
              "    <tr>\n",
              "      <th>...</th>\n",
              "      <td>...</td>\n",
              "      <td>...</td>\n",
              "      <td>...</td>\n",
              "      <td>...</td>\n",
              "      <td>...</td>\n",
              "      <td>...</td>\n",
              "      <td>...</td>\n",
              "      <td>...</td>\n",
              "    </tr>\n",
              "    <tr>\n",
              "      <th>315</th>\n",
              "      <td>0.50</td>\n",
              "      <td>0.50</td>\n",
              "      <td>He’s a really good guy. Uh. He’s always cleani...</td>\n",
              "      <td>0.2500</td>\n",
              "      <td>0</td>\n",
              "      <td>0.420</td>\n",
              "      <td>0.6700</td>\n",
              "      <td>0</td>\n",
              "    </tr>\n",
              "    <tr>\n",
              "      <th>316</th>\n",
              "      <td>0.47</td>\n",
              "      <td>0.47</td>\n",
              "      <td>My roommate is a great guy. There is many grea...</td>\n",
              "      <td>0.2209</td>\n",
              "      <td>0</td>\n",
              "      <td>0.411</td>\n",
              "      <td>0.6319</td>\n",
              "      <td>0</td>\n",
              "    </tr>\n",
              "    <tr>\n",
              "      <th>317</th>\n",
              "      <td>0.45</td>\n",
              "      <td>0.55</td>\n",
              "      <td>My roommate is insufferable. He is, uh, comple...</td>\n",
              "      <td>0.2475</td>\n",
              "      <td>0</td>\n",
              "      <td>0.427</td>\n",
              "      <td>0.6745</td>\n",
              "      <td>0</td>\n",
              "    </tr>\n",
              "    <tr>\n",
              "      <th>318</th>\n",
              "      <td>0.50</td>\n",
              "      <td>0.50</td>\n",
              "      <td>My cousin is a terrible person. She makes me r...</td>\n",
              "      <td>0.2500</td>\n",
              "      <td>0</td>\n",
              "      <td>0.432</td>\n",
              "      <td>0.6820</td>\n",
              "      <td>0</td>\n",
              "    </tr>\n",
              "    <tr>\n",
              "      <th>319</th>\n",
              "      <td>0.18</td>\n",
              "      <td>0.82</td>\n",
              "      <td>I have a cousin who can literally make me smil...</td>\n",
              "      <td>0.1476</td>\n",
              "      <td>0</td>\n",
              "      <td>0.468</td>\n",
              "      <td>0.6156</td>\n",
              "      <td>0</td>\n",
              "    </tr>\n",
              "  </tbody>\n",
              "</table>\n",
              "<p>320 rows × 8 columns</p>\n",
              "</div>\n",
              "      <button class=\"colab-df-convert\" onclick=\"convertToInteractive('df-4e400755-a490-4682-91b1-37819e19bae6')\"\n",
              "              title=\"Convert this dataframe to an interactive table.\"\n",
              "              style=\"display:none;\">\n",
              "        \n",
              "  <svg xmlns=\"http://www.w3.org/2000/svg\" height=\"24px\"viewBox=\"0 0 24 24\"\n",
              "       width=\"24px\">\n",
              "    <path d=\"M0 0h24v24H0V0z\" fill=\"none\"/>\n",
              "    <path d=\"M18.56 5.44l.94 2.06.94-2.06 2.06-.94-2.06-.94-.94-2.06-.94 2.06-2.06.94zm-11 1L8.5 8.5l.94-2.06 2.06-.94-2.06-.94L8.5 2.5l-.94 2.06-2.06.94zm10 10l.94 2.06.94-2.06 2.06-.94-2.06-.94-.94-2.06-.94 2.06-2.06.94z\"/><path d=\"M17.41 7.96l-1.37-1.37c-.4-.4-.92-.59-1.43-.59-.52 0-1.04.2-1.43.59L10.3 9.45l-7.72 7.72c-.78.78-.78 2.05 0 2.83L4 21.41c.39.39.9.59 1.41.59.51 0 1.02-.2 1.41-.59l7.78-7.78 2.81-2.81c.8-.78.8-2.07 0-2.86zM5.41 20L4 18.59l7.72-7.72 1.47 1.35L5.41 20z\"/>\n",
              "  </svg>\n",
              "      </button>\n",
              "      \n",
              "  <style>\n",
              "    .colab-df-container {\n",
              "      display:flex;\n",
              "      flex-wrap:wrap;\n",
              "      gap: 12px;\n",
              "    }\n",
              "\n",
              "    .colab-df-convert {\n",
              "      background-color: #E8F0FE;\n",
              "      border: none;\n",
              "      border-radius: 50%;\n",
              "      cursor: pointer;\n",
              "      display: none;\n",
              "      fill: #1967D2;\n",
              "      height: 32px;\n",
              "      padding: 0 0 0 0;\n",
              "      width: 32px;\n",
              "    }\n",
              "\n",
              "    .colab-df-convert:hover {\n",
              "      background-color: #E2EBFA;\n",
              "      box-shadow: 0px 1px 2px rgba(60, 64, 67, 0.3), 0px 1px 3px 1px rgba(60, 64, 67, 0.15);\n",
              "      fill: #174EA6;\n",
              "    }\n",
              "\n",
              "    [theme=dark] .colab-df-convert {\n",
              "      background-color: #3B4455;\n",
              "      fill: #D2E3FC;\n",
              "    }\n",
              "\n",
              "    [theme=dark] .colab-df-convert:hover {\n",
              "      background-color: #434B5C;\n",
              "      box-shadow: 0px 1px 3px 1px rgba(0, 0, 0, 0.15);\n",
              "      filter: drop-shadow(0px 1px 2px rgba(0, 0, 0, 0.3));\n",
              "      fill: #FFFFFF;\n",
              "    }\n",
              "  </style>\n",
              "\n",
              "      <script>\n",
              "        const buttonEl =\n",
              "          document.querySelector('#df-4e400755-a490-4682-91b1-37819e19bae6 button.colab-df-convert');\n",
              "        buttonEl.style.display =\n",
              "          google.colab.kernel.accessAllowed ? 'block' : 'none';\n",
              "\n",
              "        async function convertToInteractive(key) {\n",
              "          const element = document.querySelector('#df-4e400755-a490-4682-91b1-37819e19bae6');\n",
              "          const dataTable =\n",
              "            await google.colab.kernel.invokeFunction('convertToInteractive',\n",
              "                                                     [key], {});\n",
              "          if (!dataTable) return;\n",
              "\n",
              "          const docLinkHtml = 'Like what you see? Visit the ' +\n",
              "            '<a target=\"_blank\" href=https://colab.research.google.com/notebooks/data_table.ipynb>data table notebook</a>'\n",
              "            + ' to learn more about interactive tables.';\n",
              "          element.innerHTML = '';\n",
              "          dataTable['output_type'] = 'display_data';\n",
              "          await google.colab.output.renderOutput(dataTable, element);\n",
              "          const docLink = document.createElement('div');\n",
              "          docLink.innerHTML = docLinkHtml;\n",
              "          element.appendChild(docLink);\n",
              "        }\n",
              "      </script>\n",
              "    </div>\n",
              "  </div>\n",
              "  "
            ]
          },
          "metadata": {},
          "execution_count": 128
        }
      ],
      "source": [
        "df = pd.read_csv(\"MU3D Codebook3.0.csv\",encoding='cp1252')\n",
        "df"
      ],
      "id": "a80ba5a2"
    },
    {
      "cell_type": "code",
      "execution_count": null,
      "metadata": {
        "id": "8695b227"
      },
      "outputs": [],
      "source": [
        "from nltk.corpus import stopwords\n",
        "from nltk.tokenize import word_tokenize\n",
        "import nltk"
      ],
      "id": "8695b227"
    },
    {
      "cell_type": "code",
      "execution_count": null,
      "metadata": {
        "id": "05988b29"
      },
      "outputs": [],
      "source": [
        "#convert to lowercase, strip and remove punctuations\n",
        "def preprocess(text):\n",
        "    text = text.lower() \n",
        "    text=text.strip()  \n",
        "    text=re.compile('<.*?>').sub('', text) \n",
        "    text = re.compile('[%s]' % re.escape(string.punctuation)).sub(' ', text)  \n",
        "    text = re.sub('\\s+', ' ', text)  \n",
        "    text = re.sub(r'\\[[0-9]*\\]',' ',text) \n",
        "    text=re.sub(r'[^\\w\\s]', '', str(text).lower().strip())\n",
        "    text = re.sub(r'\\d',' ',text) \n",
        "    text = re.sub(r'\\s+',' ',text) \n",
        "    return text\n",
        "\n",
        " \n",
        "# STOPWORD REMOVAL\n",
        "def stopword(string):\n",
        "    a= [i for i in string.split() if i not in stopwords.words('english')]\n",
        "    return ' '.join(a)\n",
        "#LEMMATIZATION\n",
        "# Initialize the lemmatizer\n",
        "wl = WordNetLemmatizer()\n",
        " \n",
        "# This is a helper function to map NTLK position tags\n",
        "def get_wordnet_pos(tag):\n",
        "    if tag.startswith('J'):\n",
        "        return wordnet.ADJ\n",
        "    elif tag.startswith('V'):\n",
        "        return wordnet.VERB\n",
        "    elif tag.startswith('N'):\n",
        "        return wordnet.NOUN\n",
        "    elif tag.startswith('R'):\n",
        "        return wordnet.ADV\n",
        "    else:\n",
        "        return wordnet.NOUN\n",
        "# Tokenize the sentence\n",
        "def lemmatizer(string):\n",
        "    word_pos_tags = nltk.pos_tag(word_tokenize(string)) # Get position tags\n",
        "    a=[wl.lemmatize(tag[0], get_wordnet_pos(tag[1])) for idx, tag in enumerate(word_pos_tags)] # Map the position tag and lemmatize the word/token\n",
        "    return \" \".join(a)"
      ],
      "id": "05988b29"
    },
    {
      "cell_type": "code",
      "execution_count": null,
      "metadata": {
        "colab": {
          "base_uri": "https://localhost:8080/"
        },
        "id": "hAcIvOYpM8RJ",
        "outputId": "e3dc6807-f4dd-4ade-dd12-585ba18d1916"
      },
      "outputs": [
        {
          "output_type": "stream",
          "name": "stdout",
          "text": [
            "[nltk_data] Downloading package punkt to /root/nltk_data...\n",
            "[nltk_data]   Package punkt is already up-to-date!\n",
            "[nltk_data] Downloading package stopwords to /root/nltk_data...\n",
            "[nltk_data]   Package stopwords is already up-to-date!\n",
            "[nltk_data] Downloading package averaged_perceptron_tagger to\n",
            "[nltk_data]     /root/nltk_data...\n",
            "[nltk_data]   Package averaged_perceptron_tagger is already up-to-\n",
            "[nltk_data]       date!\n",
            "[nltk_data] Downloading package wordnet to /root/nltk_data...\n",
            "[nltk_data]   Package wordnet is already up-to-date!\n"
          ]
        },
        {
          "output_type": "execute_result",
          "data": {
            "text/plain": [
              "True"
            ]
          },
          "metadata": {},
          "execution_count": 131
        }
      ],
      "source": [
        "nltk.download('punkt')\n",
        "nltk.download('stopwords')\n",
        "nltk.download('averaged_perceptron_tagger')\n",
        "nltk.download('wordnet')"
      ],
      "id": "hAcIvOYpM8RJ"
    },
    {
      "cell_type": "code",
      "source": [
        "df['Truthful'].value_counts()"
      ],
      "metadata": {
        "colab": {
          "base_uri": "https://localhost:8080/"
        },
        "id": "frOIN4opoyus",
        "outputId": "1f9a7ad1-d734-4a88-cabc-a77ef406944f"
      },
      "id": "frOIN4opoyus",
      "execution_count": null,
      "outputs": [
        {
          "output_type": "execute_result",
          "data": {
            "text/plain": [
              "0    215\n",
              "1    105\n",
              "Name: Truthful, dtype: int64"
            ]
          },
          "metadata": {},
          "execution_count": 132
        }
      ]
    },
    {
      "cell_type": "code",
      "execution_count": null,
      "metadata": {
        "colab": {
          "base_uri": "https://localhost:8080/",
          "height": 337
        },
        "id": "f59c82f5",
        "outputId": "f7c7ded0-8313-4d58-9873-7a09624c81dd"
      },
      "outputs": [
        {
          "output_type": "execute_result",
          "data": {
            "text/plain": [
              "   Accuracy  TruthProp                                      Transcription  \\\n",
              "0      0.77       0.77  My best friend is a really nice person. Um. Sh...   \n",
              "1      0.40       0.60  She’s actually really two faced and not fun to...   \n",
              "2      0.77       0.77  So this specific person is actually just a rea...   \n",
              "3      0.58       0.42  This person is actually a really kind person. ...   \n",
              "4      0.59       0.59  My roommate is a really good person. She’s ver...   \n",
              "\n",
              "   Result  Truthful1  Trustworthy  Result2  Truthful  \\\n",
              "0  0.5929          1        0.432   1.0249         1   \n",
              "1  0.2400          0        0.375   0.6150         0   \n",
              "2  0.5929          1        0.395   0.9879         1   \n",
              "3  0.2436          0        0.405   0.6486         0   \n",
              "4  0.3481          0        0.436   0.7841         1   \n",
              "\n",
              "                                          clean_text  \n",
              "0  best friend really nice person um shes always ...  \n",
              "1  shes actually really two face fun around um sh...  \n",
              "2  specific person actually really mean negative ...  \n",
              "3  person actually really kind person many friend...  \n",
              "4  roommate really good person shes sweet shes ho...  "
            ],
            "text/html": [
              "\n",
              "  <div id=\"df-fd1db2e6-304b-4259-a1b0-e4d464f6807e\">\n",
              "    <div class=\"colab-df-container\">\n",
              "      <div>\n",
              "<style scoped>\n",
              "    .dataframe tbody tr th:only-of-type {\n",
              "        vertical-align: middle;\n",
              "    }\n",
              "\n",
              "    .dataframe tbody tr th {\n",
              "        vertical-align: top;\n",
              "    }\n",
              "\n",
              "    .dataframe thead th {\n",
              "        text-align: right;\n",
              "    }\n",
              "</style>\n",
              "<table border=\"1\" class=\"dataframe\">\n",
              "  <thead>\n",
              "    <tr style=\"text-align: right;\">\n",
              "      <th></th>\n",
              "      <th>Accuracy</th>\n",
              "      <th>TruthProp</th>\n",
              "      <th>Transcription</th>\n",
              "      <th>Result</th>\n",
              "      <th>Truthful1</th>\n",
              "      <th>Trustworthy</th>\n",
              "      <th>Result2</th>\n",
              "      <th>Truthful</th>\n",
              "      <th>clean_text</th>\n",
              "    </tr>\n",
              "  </thead>\n",
              "  <tbody>\n",
              "    <tr>\n",
              "      <th>0</th>\n",
              "      <td>0.77</td>\n",
              "      <td>0.77</td>\n",
              "      <td>My best friend is a really nice person. Um. Sh...</td>\n",
              "      <td>0.5929</td>\n",
              "      <td>1</td>\n",
              "      <td>0.432</td>\n",
              "      <td>1.0249</td>\n",
              "      <td>1</td>\n",
              "      <td>best friend really nice person um shes always ...</td>\n",
              "    </tr>\n",
              "    <tr>\n",
              "      <th>1</th>\n",
              "      <td>0.40</td>\n",
              "      <td>0.60</td>\n",
              "      <td>She’s actually really two faced and not fun to...</td>\n",
              "      <td>0.2400</td>\n",
              "      <td>0</td>\n",
              "      <td>0.375</td>\n",
              "      <td>0.6150</td>\n",
              "      <td>0</td>\n",
              "      <td>shes actually really two face fun around um sh...</td>\n",
              "    </tr>\n",
              "    <tr>\n",
              "      <th>2</th>\n",
              "      <td>0.77</td>\n",
              "      <td>0.77</td>\n",
              "      <td>So this specific person is actually just a rea...</td>\n",
              "      <td>0.5929</td>\n",
              "      <td>1</td>\n",
              "      <td>0.395</td>\n",
              "      <td>0.9879</td>\n",
              "      <td>1</td>\n",
              "      <td>specific person actually really mean negative ...</td>\n",
              "    </tr>\n",
              "    <tr>\n",
              "      <th>3</th>\n",
              "      <td>0.58</td>\n",
              "      <td>0.42</td>\n",
              "      <td>This person is actually a really kind person. ...</td>\n",
              "      <td>0.2436</td>\n",
              "      <td>0</td>\n",
              "      <td>0.405</td>\n",
              "      <td>0.6486</td>\n",
              "      <td>0</td>\n",
              "      <td>person actually really kind person many friend...</td>\n",
              "    </tr>\n",
              "    <tr>\n",
              "      <th>4</th>\n",
              "      <td>0.59</td>\n",
              "      <td>0.59</td>\n",
              "      <td>My roommate is a really good person. She’s ver...</td>\n",
              "      <td>0.3481</td>\n",
              "      <td>0</td>\n",
              "      <td>0.436</td>\n",
              "      <td>0.7841</td>\n",
              "      <td>1</td>\n",
              "      <td>roommate really good person shes sweet shes ho...</td>\n",
              "    </tr>\n",
              "  </tbody>\n",
              "</table>\n",
              "</div>\n",
              "      <button class=\"colab-df-convert\" onclick=\"convertToInteractive('df-fd1db2e6-304b-4259-a1b0-e4d464f6807e')\"\n",
              "              title=\"Convert this dataframe to an interactive table.\"\n",
              "              style=\"display:none;\">\n",
              "        \n",
              "  <svg xmlns=\"http://www.w3.org/2000/svg\" height=\"24px\"viewBox=\"0 0 24 24\"\n",
              "       width=\"24px\">\n",
              "    <path d=\"M0 0h24v24H0V0z\" fill=\"none\"/>\n",
              "    <path d=\"M18.56 5.44l.94 2.06.94-2.06 2.06-.94-2.06-.94-.94-2.06-.94 2.06-2.06.94zm-11 1L8.5 8.5l.94-2.06 2.06-.94-2.06-.94L8.5 2.5l-.94 2.06-2.06.94zm10 10l.94 2.06.94-2.06 2.06-.94-2.06-.94-.94-2.06-.94 2.06-2.06.94z\"/><path d=\"M17.41 7.96l-1.37-1.37c-.4-.4-.92-.59-1.43-.59-.52 0-1.04.2-1.43.59L10.3 9.45l-7.72 7.72c-.78.78-.78 2.05 0 2.83L4 21.41c.39.39.9.59 1.41.59.51 0 1.02-.2 1.41-.59l7.78-7.78 2.81-2.81c.8-.78.8-2.07 0-2.86zM5.41 20L4 18.59l7.72-7.72 1.47 1.35L5.41 20z\"/>\n",
              "  </svg>\n",
              "      </button>\n",
              "      \n",
              "  <style>\n",
              "    .colab-df-container {\n",
              "      display:flex;\n",
              "      flex-wrap:wrap;\n",
              "      gap: 12px;\n",
              "    }\n",
              "\n",
              "    .colab-df-convert {\n",
              "      background-color: #E8F0FE;\n",
              "      border: none;\n",
              "      border-radius: 50%;\n",
              "      cursor: pointer;\n",
              "      display: none;\n",
              "      fill: #1967D2;\n",
              "      height: 32px;\n",
              "      padding: 0 0 0 0;\n",
              "      width: 32px;\n",
              "    }\n",
              "\n",
              "    .colab-df-convert:hover {\n",
              "      background-color: #E2EBFA;\n",
              "      box-shadow: 0px 1px 2px rgba(60, 64, 67, 0.3), 0px 1px 3px 1px rgba(60, 64, 67, 0.15);\n",
              "      fill: #174EA6;\n",
              "    }\n",
              "\n",
              "    [theme=dark] .colab-df-convert {\n",
              "      background-color: #3B4455;\n",
              "      fill: #D2E3FC;\n",
              "    }\n",
              "\n",
              "    [theme=dark] .colab-df-convert:hover {\n",
              "      background-color: #434B5C;\n",
              "      box-shadow: 0px 1px 3px 1px rgba(0, 0, 0, 0.15);\n",
              "      filter: drop-shadow(0px 1px 2px rgba(0, 0, 0, 0.3));\n",
              "      fill: #FFFFFF;\n",
              "    }\n",
              "  </style>\n",
              "\n",
              "      <script>\n",
              "        const buttonEl =\n",
              "          document.querySelector('#df-fd1db2e6-304b-4259-a1b0-e4d464f6807e button.colab-df-convert');\n",
              "        buttonEl.style.display =\n",
              "          google.colab.kernel.accessAllowed ? 'block' : 'none';\n",
              "\n",
              "        async function convertToInteractive(key) {\n",
              "          const element = document.querySelector('#df-fd1db2e6-304b-4259-a1b0-e4d464f6807e');\n",
              "          const dataTable =\n",
              "            await google.colab.kernel.invokeFunction('convertToInteractive',\n",
              "                                                     [key], {});\n",
              "          if (!dataTable) return;\n",
              "\n",
              "          const docLinkHtml = 'Like what you see? Visit the ' +\n",
              "            '<a target=\"_blank\" href=https://colab.research.google.com/notebooks/data_table.ipynb>data table notebook</a>'\n",
              "            + ' to learn more about interactive tables.';\n",
              "          element.innerHTML = '';\n",
              "          dataTable['output_type'] = 'display_data';\n",
              "          await google.colab.output.renderOutput(dataTable, element);\n",
              "          const docLink = document.createElement('div');\n",
              "          docLink.innerHTML = docLinkHtml;\n",
              "          element.appendChild(docLink);\n",
              "        }\n",
              "      </script>\n",
              "    </div>\n",
              "  </div>\n",
              "  "
            ]
          },
          "metadata": {},
          "execution_count": 133
        }
      ],
      "source": [
        "def finalpreprocess(string):\n",
        "    return lemmatizer(stopword(preprocess(string)))\n",
        "df['clean_text'] = df['Transcription'].apply(lambda x: finalpreprocess(x))\n",
        "df.head()"
      ],
      "id": "f59c82f5"
    },
    {
      "cell_type": "code",
      "execution_count": null,
      "metadata": {
        "id": "9ba3200a"
      },
      "outputs": [],
      "source": [
        "#SPLITTING THE TRAINING DATASET INTO TRAIN AND TEST\n",
        "X_train, X_test, y_train, y_test = train_test_split(df[\"clean_text\"],df[\"Truthful\"],test_size=0.2,shuffle=True)"
      ],
      "id": "9ba3200a"
    },
    {
      "cell_type": "code",
      "execution_count": null,
      "metadata": {
        "id": "134503e4"
      },
      "outputs": [],
      "source": [
        "# Word2Vec runs on tokenized sentences\n",
        "X_train_tok= [nltk.word_tokenize(i) for i in X_train]  \n",
        "X_test_tok= [nltk.word_tokenize(i) for i in X_test]"
      ],
      "id": "134503e4"
    },
    {
      "cell_type": "code",
      "execution_count": null,
      "metadata": {
        "id": "d4e81ec1"
      },
      "outputs": [],
      "source": [
        "#gives less weightage to less important words?\n",
        "#Tf-Idf\n",
        "tfidf_vectorizer = TfidfVectorizer(use_idf=True)\n",
        "X_train_vectors_tfidf = tfidf_vectorizer.fit_transform(X_train) \n",
        "X_test_vectors_tfidf = tfidf_vectorizer.transform(X_test)\n",
        "#building Word2Vec model\n",
        "class MeanEmbeddingVectorizer(object):\n",
        "    def __init__(self, word2vec):\n",
        "        self.word2vec = word2vec\n",
        "        # if a text is empty we should return a vector of zeros\n",
        "        # with the same dimensionality as all the other vectors\n",
        "        self.dim = len(next(iter(word2vec.values())))\n",
        "def fit(self, X, y):\n",
        "        return self\n",
        "def transform(self, X):\n",
        "        return np.array([\n",
        "            np.mean([self.word2vec[w] for w in words if w in self.word2vec]\n",
        "                    or [np.zeros(self.dim)], axis=0)\n",
        "            for words in X\n",
        "        ])\n"
      ],
      "id": "d4e81ec1"
    },
    {
      "cell_type": "code",
      "execution_count": null,
      "metadata": {
        "id": "cd068386"
      },
      "outputs": [],
      "source": [
        "from sklearn import model_selection, naive_bayes, svm"
      ],
      "id": "cd068386"
    },
    {
      "cell_type": "code",
      "execution_count": null,
      "metadata": {
        "colab": {
          "base_uri": "https://localhost:8080/"
        },
        "id": "ab765019",
        "outputId": "3380b56f-69f4-4d9c-978f-d958f1c18e6d"
      },
      "outputs": [
        {
          "output_type": "stream",
          "name": "stdout",
          "text": [
            "SVM Accuracy Score ->  73.4375\n"
          ]
        }
      ],
      "source": [
        "#FITTING THE CLASSIFICATION MODEL using Naive Bayes(tf-idf)\n",
        "nb_tfidf = MultinomialNB()\n",
        "nb_tfidf.fit(X_train_vectors_tfidf, y_train)  \n",
        "#Predict y value for test dataset\n",
        "y_predict = nb_tfidf.predict(X_test_vectors_tfidf)\n",
        "y_prob = nb_tfidf.predict_proba(X_test_vectors_tfidf)[:,1]\n",
        "#print(classification_report(y_test,y_predict))\n",
        "#print('Confusion Matrix:',confusion_matrix(y_test, y_predict))\n",
        "print(\"SVM Accuracy Score -> \",accuracy_score(y_predict,y_test )*100)"
      ],
      "id": "ab765019"
    },
    {
      "cell_type": "code",
      "execution_count": null,
      "metadata": {
        "colab": {
          "base_uri": "https://localhost:8080/"
        },
        "id": "b2778925",
        "outputId": "2b5ddec3-ec2f-47cd-dae1-df0d1a4cd4c8"
      },
      "outputs": [
        {
          "output_type": "stream",
          "name": "stdout",
          "text": [
            "              precision    recall  f1-score   support\n",
            "\n",
            "           0       0.73      1.00      0.85        47\n",
            "           1       0.00      0.00      0.00        17\n",
            "\n",
            "    accuracy                           0.73        64\n",
            "   macro avg       0.37      0.50      0.42        64\n",
            "weighted avg       0.54      0.73      0.62        64\n",
            "\n",
            "Confusion Matrix: [[47  0]\n",
            " [17  0]]\n"
          ]
        },
        {
          "output_type": "stream",
          "name": "stderr",
          "text": [
            "/usr/local/lib/python3.7/dist-packages/sklearn/metrics/_classification.py:1318: UndefinedMetricWarning: Precision and F-score are ill-defined and being set to 0.0 in labels with no predicted samples. Use `zero_division` parameter to control this behavior.\n",
            "  _warn_prf(average, modifier, msg_start, len(result))\n",
            "/usr/local/lib/python3.7/dist-packages/sklearn/metrics/_classification.py:1318: UndefinedMetricWarning: Precision and F-score are ill-defined and being set to 0.0 in labels with no predicted samples. Use `zero_division` parameter to control this behavior.\n",
            "  _warn_prf(average, modifier, msg_start, len(result))\n",
            "/usr/local/lib/python3.7/dist-packages/sklearn/metrics/_classification.py:1318: UndefinedMetricWarning: Precision and F-score are ill-defined and being set to 0.0 in labels with no predicted samples. Use `zero_division` parameter to control this behavior.\n",
            "  _warn_prf(average, modifier, msg_start, len(result))\n"
          ]
        }
      ],
      "source": [
        "print(classification_report(y_test,y_predict))\n",
        "print('Confusion Matrix:',confusion_matrix(y_test, y_predict))"
      ],
      "id": "b2778925"
    },
    {
      "cell_type": "code",
      "execution_count": null,
      "metadata": {
        "colab": {
          "base_uri": "https://localhost:8080/"
        },
        "id": "dcddbe86",
        "outputId": "3c2d27fa-ba1e-42d0-cf8f-69359d66263c"
      },
      "outputs": [
        {
          "output_type": "stream",
          "name": "stdout",
          "text": [
            "SVM Accuracy Score ->  65.625\n"
          ]
        }
      ],
      "source": [
        "# Classifier - Algorithm - SVM\n",
        "# fit the training dataset on the classifier\n",
        "SVM = svm.SVC(C=1.0, kernel='linear', degree=4, gamma=3)\n",
        "SVM.fit(X_train_vectors_tfidf,y_train)\n",
        "# predict the labels on validation dataset\n",
        "predictions_SVM = SVM.predict(X_test_vectors_tfidf)\n",
        "# Use accuracy_score function to get the accuracy\n",
        "print(\"SVM Accuracy Score -> \",accuracy_score(predictions_SVM,y_test )*100)"
      ],
      "id": "dcddbe86"
    },
    {
      "cell_type": "code",
      "execution_count": null,
      "metadata": {
        "colab": {
          "base_uri": "https://localhost:8080/"
        },
        "id": "4ce4ebaf",
        "outputId": "752fabef-ba88-4114-a783-de5e9812d717"
      },
      "outputs": [
        {
          "output_type": "stream",
          "name": "stdout",
          "text": [
            "              precision    recall  f1-score   support\n",
            "\n",
            "           0       0.71      0.89      0.79        47\n",
            "           1       0.00      0.00      0.00        17\n",
            "\n",
            "    accuracy                           0.66        64\n",
            "   macro avg       0.36      0.45      0.40        64\n",
            "weighted avg       0.52      0.66      0.58        64\n",
            "\n",
            "Confusion Matrix: [[42  5]\n",
            " [17  0]]\n"
          ]
        }
      ],
      "source": [
        "print(classification_report(y_test,predictions_SVM))\n",
        "print('Confusion Matrix:',confusion_matrix(y_test, predictions_SVM))"
      ],
      "id": "4ce4ebaf"
    },
    {
      "cell_type": "code",
      "execution_count": null,
      "metadata": {
        "id": "86fd82e5"
      },
      "outputs": [],
      "source": [
        ""
      ],
      "id": "86fd82e5"
    }
  ],
  "metadata": {
    "colab": {
      "name": "Miami_ML.ipynb",
      "provenance": [],
      "collapsed_sections": []
    },
    "kernelspec": {
      "display_name": "Python 3 (ipykernel)",
      "language": "python",
      "name": "python3"
    },
    "language_info": {
      "codemirror_mode": {
        "name": "ipython",
        "version": 3
      },
      "file_extension": ".py",
      "mimetype": "text/x-python",
      "name": "python",
      "nbconvert_exporter": "python",
      "pygments_lexer": "ipython3",
      "version": "3.9.7"
    }
  },
  "nbformat": 4,
  "nbformat_minor": 5
}